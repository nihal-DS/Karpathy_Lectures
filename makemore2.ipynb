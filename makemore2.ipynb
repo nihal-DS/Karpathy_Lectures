{
 "cells": [
  {
   "cell_type": "markdown",
   "id": "868b5596-8c93-4e06-b3cc-b9b23d7eb659",
   "metadata": {},
   "source": [
    "## Building makemore Part 2: MLP\n",
    "#### https://www.youtube.com/watch?v=TCH_1BHY58I"
   ]
  },
  {
   "cell_type": "code",
   "execution_count": 42,
   "id": "04ef82c5-d64e-4974-bf09-9c469642b580",
   "metadata": {},
   "outputs": [],
   "source": [
    "import torch\n",
    "import torch.nn.functional as F\n",
    "import matplotlib.pyplot as plt\n",
    "%matplotlib inline"
   ]
  },
  {
   "cell_type": "code",
   "execution_count": 43,
   "id": "bdccf2bf-665d-4229-bc3e-e2cf0f6ef885",
   "metadata": {},
   "outputs": [
    {
     "data": {
      "text/plain": [
       "['emma', 'olivia', 'ava', 'isabella', 'sophia']"
      ]
     },
     "execution_count": 43,
     "metadata": {},
     "output_type": "execute_result"
    }
   ],
   "source": [
    "words = open(\"data/names.txt\", \"r\").read().splitlines()\n",
    "words[:5]"
   ]
  },
  {
   "cell_type": "code",
   "execution_count": 44,
   "id": "f5c05b01-33eb-4de0-8d9d-952f1c0e9cd0",
   "metadata": {},
   "outputs": [
    {
     "data": {
      "text/plain": [
       "32033"
      ]
     },
     "execution_count": 44,
     "metadata": {},
     "output_type": "execute_result"
    }
   ],
   "source": [
    "len(words)"
   ]
  },
  {
   "cell_type": "code",
   "execution_count": 45,
   "id": "1288bf2c-a4da-4cbb-ba44-63f4782ab29f",
   "metadata": {},
   "outputs": [
    {
     "name": "stdout",
     "output_type": "stream",
     "text": [
      "{1: 'a', 2: 'b', 3: 'c', 4: 'd', 5: 'e', 6: 'f', 7: 'g', 8: 'h', 9: 'i', 10: 'j', 11: 'k', 12: 'l', 13: 'm', 14: 'n', 15: 'o', 16: 'p', 17: 'q', 18: 'r', 19: 's', 20: 't', 21: 'u', 22: 'v', 23: 'w', 24: 'x', 25: 'y', 26: 'z', 0: '.'}\n"
     ]
    }
   ],
   "source": [
    "chars = sorted(list(set(\"\".join(words))))\n",
    "stoi = {s:i for i,s in enumerate(chars,1)}\n",
    "stoi[\".\"] = 0\n",
    "itos = {i:s for s,i in stoi.items()}\n",
    "print(itos)"
   ]
  },
  {
   "cell_type": "code",
   "execution_count": 46,
   "id": "50b1d26c-2c92-4728-88bd-c157b0cde49e",
   "metadata": {},
   "outputs": [],
   "source": [
    "# Creating training dataset\n",
    "block_size = 3\n",
    "X, y = [], []\n",
    "\n",
    "for name in words:\n",
    "    window = [0] * block_size\n",
    "    for n in name + \".\":\n",
    "        n = stoi[n]\n",
    "        X.append(window)\n",
    "        y.append(n)\n",
    "        window = window[1:] + [n]\n",
    "\n",
    "X = torch.tensor(X)\n",
    "y = torch.tensor(y)"
   ]
  },
  {
   "cell_type": "code",
   "execution_count": 47,
   "id": "9d1ba028-66ae-4f49-96b8-92595066d232",
   "metadata": {},
   "outputs": [
    {
     "name": "stdout",
     "output_type": "stream",
     "text": [
      "torch.Size([228146, 3])\n",
      "torch.Size([228146])\n"
     ]
    }
   ],
   "source": [
    "# Dataset of 228146 examples with three words being fed into the neural network to predict the next single letter\n",
    "print(X.shape)\n",
    "print(y.shape)"
   ]
  },
  {
   "cell_type": "code",
   "execution_count": 48,
   "id": "719ba769-973c-42d7-b95b-d1d59f1d3981",
   "metadata": {},
   "outputs": [],
   "source": [
    "# Look up table containing embeddings for each letter (representing each word a two dimentional vector)\n",
    "# C = torch.randn((27,2))"
   ]
  },
  {
   "cell_type": "code",
   "execution_count": 49,
   "id": "02794d73-c122-4441-90c0-f642dd510ff1",
   "metadata": {},
   "outputs": [],
   "source": [
    "# Appling them in the dataset\n",
    "# emb = C[X]\n",
    "# print(emb.shape)\n",
    "# Shape [examples, three_letter, two_dimentional_vector_to_represent_each_letter]"
   ]
  },
  {
   "cell_type": "code",
   "execution_count": 50,
   "id": "9be5096d-62d3-4ce6-af9b-074a74b9fa96",
   "metadata": {},
   "outputs": [],
   "source": [
    "# According to Bengio paper, three word embeddings are concatenated and fed into the neural network\n",
    "# Use .view() to manipulate the shape of a tensor **most efficient\n",
    "# emb.view(-1,6).shape"
   ]
  },
  {
   "cell_type": "code",
   "execution_count": 63,
   "id": "c9f5d69b-e5ed-4019-bd09-df4b1706a61f",
   "metadata": {},
   "outputs": [],
   "source": [
    "# Defining the two layer neural network\n",
    "g = torch.Generator().manual_seed(2147483647)\n",
    "C = torch.randn((27,2), generator=g)\n",
    "W1 = torch.randn((6,100), generator=g)\n",
    "b1 = torch.randn(100, generator=g)\n",
    "W2 = torch.randn((100,27), generator=g)\n",
    "b2 = torch.randn(27, generator=g)\n",
    "parameters = [C, W1, b1, W2, b2]"
   ]
  },
  {
   "cell_type": "code",
   "execution_count": 64,
   "id": "875e293e-06ad-49ed-95d6-49d508d3f9f6",
   "metadata": {},
   "outputs": [],
   "source": [
    "# (1, 90) -> (90, 100) -> (100, 27)\n",
    "# (1, 90) -> (1, 100)  -> (1, 27)  W"
   ]
  },
  {
   "cell_type": "code",
   "execution_count": 56,
   "id": "af9900fb-e439-46c3-86c3-fa699025d030",
   "metadata": {
    "scrolled": true
   },
   "outputs": [],
   "source": [
    "emb = C[X]\n",
    "h = torch.tanh((emb.view(-1,6) @ W1) + b1)\n",
    "logits = (h @ W2) + b2\n",
    "# counts = logits.exp()\n",
    "# probs = counts / counts.sum(1, keepdims=True)\n",
    "# loss = -probs[torch.arange(X.shape[0]),y].log().mean()\n",
    "loss = F.cross_entropy(logits, y)"
   ]
  },
  {
   "cell_type": "code",
   "execution_count": 58,
   "id": "5364052e-94f7-409d-ab77-11e2a33f68cc",
   "metadata": {},
   "outputs": [
    {
     "data": {
      "text/plain": [
       "tensor(19.5052)"
      ]
     },
     "execution_count": 58,
     "metadata": {},
     "output_type": "execute_result"
    }
   ],
   "source": [
    "loss"
   ]
  },
  {
   "cell_type": "code",
   "execution_count": 59,
   "id": "9d35adde-31ef-44fc-b4e5-e28b86af3996",
   "metadata": {},
   "outputs": [],
   "source": [
    "# It is more efficient to use F.cross_entropy because\n",
    "# 1. Pytorch doesn't create intermediate tensor objects like counts, probs and the whole mathematical opration is done more efficiently \n",
    "# 2. Backward pass equation is also much simpler when we use F.cross_entropy\n",
    "# 3. Pytorch makes sure the .exp() function doesn't return nan when the logits explode (by negating the array with max val)\n",
    "# @33 min"
   ]
  },
  {
   "cell_type": "code",
   "execution_count": 65,
   "id": "5468c9bd-5c2c-405d-9fde-70ee78820771",
   "metadata": {},
   "outputs": [],
   "source": [
    "for p in parameters:\n",
    "    p.requires_grad = True"
   ]
  },
  {
   "cell_type": "code",
   "execution_count": 80,
   "id": "b83cc068-17cc-4ced-9500-7d7daeb8cd3b",
   "metadata": {},
   "outputs": [],
   "source": [
    "# Adding mini batch since it it much more efficient in practice\n",
    "# Taking many steps with approx gradient direction is more efficient than calculating the exact gradient and taking fewer steps"
   ]
  },
  {
   "cell_type": "code",
   "execution_count": 89,
   "id": "19d9da90-406b-44df-8d9d-85cf85af0eae",
   "metadata": {},
   "outputs": [
    {
     "name": "stdout",
     "output_type": "stream",
     "text": [
      "2.733107566833496\n",
      "2.856109380722046\n",
      "2.8633573055267334\n",
      "2.3438305854797363\n",
      "2.4861972332000732\n",
      "2.717982530593872\n",
      "2.2867355346679688\n",
      "2.4353418350219727\n",
      "2.770944833755493\n",
      "2.9593067169189453\n"
     ]
    }
   ],
   "source": [
    "# Training loop\n",
    "for _ in range(10):\n",
    "\n",
    "    # Mini Batch\n",
    "    ix = torch.randint(0, X.shape[0], (32,)) # 32 is batch size\n",
    "    \n",
    "    # Forward Pass\n",
    "    emb = C[X[ix]]\n",
    "    h = torch.tanh((emb.view(-1,6) @ W1) + b1)\n",
    "    logits = (h @ W2) + b2\n",
    "    loss = F.cross_entropy(logits, y[ix])\n",
    "    print(loss.item())\n",
    "\n",
    "    # Backward\n",
    "    for p in parameters:\n",
    "        p.grad = None\n",
    "    loss.backward()\n",
    "\n",
    "    # Update\n",
    "    for p in parameters:\n",
    "        p.data += -0.01 * p.grad"
   ]
  },
  {
   "cell_type": "code",
   "execution_count": 93,
   "id": "b620c33f-03be-4d58-a48c-febcd82b7af6",
   "metadata": {},
   "outputs": [
    {
     "data": {
      "text/plain": [
       "[<matplotlib.lines.Line2D at 0x1487b5fc0>]"
      ]
     },
     "execution_count": 93,
     "metadata": {},
     "output_type": "execute_result"
    },
    {
     "data": {
      "image/png": "[encoded data removed]",
      "text/plain": [
       "<Figure size 640x480 with 1 Axes>"
      ]
     },
     "metadata": {},
     "output_type": "display_data"
    }
   ],
   "source": [
    "x_ = 10 ** torch.linspace(-3, 0, 1000)\n",
    "y_ = torch.linspace(0, 1, 1000)\n",
    "plt.plot(x_, y_)"
   ]
  },
  {
   "cell_type": "code",
   "execution_count": null,
   "id": "ff61a349-0c25-4e2b-ac7a-57ad6ae901b7",
   "metadata": {},
   "outputs": [],
   "source": []
  }
 ],
 "metadata": {
  "kernelspec": {
   "display_name": "Python 3 (ipykernel)",
   "language": "python",
   "name": "python3"
  },
  "language_info": {
   "codemirror_mode": {
    "name": "ipython",
    "version": 3
   },
   "file_extension": ".py",
   "mimetype": "text/x-python",
   "name": "python",
   "nbconvert_exporter": "python",
   "pygments_lexer": "ipython3",
   "version": "3.10.10"
  }
 },
 "nbformat": 4,
 "nbformat_minor": 5
}
