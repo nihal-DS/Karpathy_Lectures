{
 "cells": [
  {
   "cell_type": "markdown",
   "id": "868b5596-8c93-4e06-b3cc-b9b23d7eb659",
   "metadata": {},
   "source": [
    "## Building makemore Part 2: MLP\n",
    "#### https://www.youtube.com/watch?v=TCH_1BHY58I"
   ]
  },
  {
   "cell_type": "code",
   "execution_count": 1,
   "id": "04ef82c5-d64e-4974-bf09-9c469642b580",
   "metadata": {},
   "outputs": [],
   "source": [
    "import torch\n",
    "import torch.nn.functional as F\n",
    "import matplotlib.pyplot as plt\n",
    "import random\n",
    "%matplotlib inline"
   ]
  },
  {
   "cell_type": "code",
   "execution_count": 2,
   "id": "bdccf2bf-665d-4229-bc3e-e2cf0f6ef885",
   "metadata": {},
   "outputs": [
    {
     "data": {
      "text/plain": [
       "['emma', 'olivia', 'ava', 'isabella', 'sophia']"
      ]
     },
     "execution_count": 2,
     "metadata": {},
     "output_type": "execute_result"
    }
   ],
   "source": [
    "words = open(\"data/names.txt\", \"r\").read().splitlines()\n",
    "words[:5]"
   ]
  },
  {
   "cell_type": "code",
   "execution_count": 3,
   "id": "f5c05b01-33eb-4de0-8d9d-952f1c0e9cd0",
   "metadata": {},
   "outputs": [
    {
     "data": {
      "text/plain": [
       "32033"
      ]
     },
     "execution_count": 3,
     "metadata": {},
     "output_type": "execute_result"
    }
   ],
   "source": [
    "len(words)"
   ]
  },
  {
   "cell_type": "code",
   "execution_count": 4,
   "id": "1288bf2c-a4da-4cbb-ba44-63f4782ab29f",
   "metadata": {},
   "outputs": [
    {
     "name": "stdout",
     "output_type": "stream",
     "text": [
      "{1: 'a', 2: 'b', 3: 'c', 4: 'd', 5: 'e', 6: 'f', 7: 'g', 8: 'h', 9: 'i', 10: 'j', 11: 'k', 12: 'l', 13: 'm', 14: 'n', 15: 'o', 16: 'p', 17: 'q', 18: 'r', 19: 's', 20: 't', 21: 'u', 22: 'v', 23: 'w', 24: 'x', 25: 'y', 26: 'z', 0: '.'}\n"
     ]
    }
   ],
   "source": [
    "chars = sorted(list(set(\"\".join(words))))\n",
    "stoi = {s:i for i,s in enumerate(chars,1)}\n",
    "stoi[\".\"] = 0\n",
    "itos = {i:s for s,i in stoi.items()}\n",
    "print(itos)"
   ]
  },
  {
   "cell_type": "code",
   "execution_count": 102,
   "id": "50b1d26c-2c92-4728-88bd-c157b0cde49e",
   "metadata": {},
   "outputs": [],
   "source": [
    "# Creating training dataset\n",
    "block_size = 4\n",
    "X, y = [], []\n",
    "\n",
    "random.seed(42)\n",
    "random.shuffle(words)\n",
    "\n",
    "for name in words:\n",
    "    window = [0] * block_size\n",
    "    for n in name + \".\":\n",
    "        n = stoi[n]\n",
    "        X.append(window)\n",
    "        y.append(n)\n",
    "        window = window[1:] + [n]\n",
    "\n",
    "X = torch.tensor(X)\n",
    "y = torch.tensor(y)"
   ]
  },
  {
   "cell_type": "code",
   "execution_count": 103,
   "id": "9d1ba028-66ae-4f49-96b8-92595066d232",
   "metadata": {},
   "outputs": [
    {
     "name": "stdout",
     "output_type": "stream",
     "text": [
      "torch.Size([228146, 4])\n",
      "torch.Size([228146])\n"
     ]
    }
   ],
   "source": [
    "# Dataset of 228146 examples with three words being fed into the neural network to predict the next single letter\n",
    "print(X.shape)\n",
    "print(y.shape)"
   ]
  },
  {
   "cell_type": "code",
   "execution_count": 104,
   "id": "0bd2cbcf-8183-4fe5-9584-f5fa4bba8ad6",
   "metadata": {},
   "outputs": [],
   "source": [
    "t = int(0.8*len(X))\n",
    "d = int(0.9*len(X))\n",
    "X_train, y_train = X[:t], y[:t]\n",
    "X_val, y_val = X[t:d], y[t:d]\n",
    "X_test, y_test = X[d:], y[d:]"
   ]
  },
  {
   "cell_type": "code",
   "execution_count": 105,
   "id": "4a4b9f12-b7c8-4a2c-a0cc-c41af3e5f7d0",
   "metadata": {},
   "outputs": [
    {
     "name": "stdout",
     "output_type": "stream",
     "text": [
      "182516 182516\n",
      "22815 22815\n",
      "22815 22815\n"
     ]
    }
   ],
   "source": [
    "print(len(X_train), len(y_train))\n",
    "print(len(X_val), len(y_val))\n",
    "print(len(X_test), len(y_test))"
   ]
  },
  {
   "cell_type": "code",
   "execution_count": 9,
   "id": "719ba769-973c-42d7-b95b-d1d59f1d3981",
   "metadata": {},
   "outputs": [],
   "source": [
    "# Look up table containing embeddings for each letter (representing each word a two dimentional vector)\n",
    "# C = torch.randn((27,2))"
   ]
  },
  {
   "cell_type": "code",
   "execution_count": 10,
   "id": "02794d73-c122-4441-90c0-f642dd510ff1",
   "metadata": {},
   "outputs": [],
   "source": [
    "# Appling them in the dataset\n",
    "# emb = C[X]\n",
    "# print(emb.shape)\n",
    "# Shape [examples, three_letter, two_dimentional_vector_to_represent_each_letter]"
   ]
  },
  {
   "cell_type": "code",
   "execution_count": 11,
   "id": "9be5096d-62d3-4ce6-af9b-074a74b9fa96",
   "metadata": {},
   "outputs": [],
   "source": [
    "# According to Bengio paper, three word embeddings are concatenated and fed into the neural network\n",
    "# Use .view() to manipulate the shape of a tensor **most efficient\n",
    "# emb.view(-1,6).shape"
   ]
  },
  {
   "cell_type": "code",
   "execution_count": 12,
   "id": "c9f5d69b-e5ed-4019-bd09-df4b1706a61f",
   "metadata": {},
   "outputs": [],
   "source": [
    "# Defining the two layer neural network\n",
    "g = torch.Generator().manual_seed(2147483647)\n",
    "C = torch.randn((27,2), generator=g)\n",
    "W1 = torch.randn((6,300), generator=g)\n",
    "b1 = torch.randn(300, generator=g)\n",
    "W2 = torch.randn((300,27), generator=g)\n",
    "b2 = torch.randn(27, generator=g)\n",
    "parameters = [C, W1, b1, W2, b2]"
   ]
  },
  {
   "cell_type": "code",
   "execution_count": 13,
   "id": "875e293e-06ad-49ed-95d6-49d508d3f9f6",
   "metadata": {},
   "outputs": [],
   "source": [
    "# (1, 90) -> (90, 100) -> (100, 27)\n",
    "# (1, 90) -> (1, 100)  -> (1, 27)  W"
   ]
  },
  {
   "cell_type": "code",
   "execution_count": 14,
   "id": "af9900fb-e439-46c3-86c3-fa699025d030",
   "metadata": {
    "scrolled": true
   },
   "outputs": [],
   "source": [
    "emb = C[X]\n",
    "h = torch.tanh((emb.view(-1,6) @ W1) + b1)\n",
    "logits = (h @ W2) + b2\n",
    "# counts = logits.exp()\n",
    "# probs = counts / counts.sum(1, keepdims=True)\n",
    "# loss = -probs[torch.arange(X.shape[0]),y].log().mean()\n",
    "loss = F.cross_entropy(logits, y)"
   ]
  },
  {
   "cell_type": "code",
   "execution_count": 15,
   "id": "5364052e-94f7-409d-ab77-11e2a33f68cc",
   "metadata": {},
   "outputs": [
    {
     "data": {
      "text/plain": [
       "tensor(26.0036)"
      ]
     },
     "execution_count": 15,
     "metadata": {},
     "output_type": "execute_result"
    }
   ],
   "source": [
    "loss"
   ]
  },
  {
   "cell_type": "code",
   "execution_count": 16,
   "id": "9d35adde-31ef-44fc-b4e5-e28b86af3996",
   "metadata": {},
   "outputs": [],
   "source": [
    "# It is more efficient to use F.cross_entropy because\n",
    "# 1. Pytorch doesn't create intermediate tensor objects like counts, probs and the whole mathematical opration is done more efficiently \n",
    "# 2. Backward pass equation is also much simpler when we use F.cross_entropy\n",
    "# 3. Pytorch makes sure the .exp() function doesn't return nan when the logits explode (by negating the array with max val)\n",
    "# @33 min"
   ]
  },
  {
   "cell_type": "code",
   "execution_count": 17,
   "id": "5468c9bd-5c2c-405d-9fde-70ee78820771",
   "metadata": {},
   "outputs": [],
   "source": [
    "for p in parameters:\n",
    "    p.requires_grad = True"
   ]
  },
  {
   "cell_type": "code",
   "execution_count": 18,
   "id": "b83cc068-17cc-4ced-9500-7d7daeb8cd3b",
   "metadata": {},
   "outputs": [],
   "source": [
    "# Adding mini batch since it it much more efficient in practice\n",
    "# Taking many steps with approx gradient direction is more efficient than calculating the exact gradient and taking fewer steps"
   ]
  },
  {
   "cell_type": "code",
   "execution_count": 19,
   "id": "19d9da90-406b-44df-8d9d-85cf85af0eae",
   "metadata": {},
   "outputs": [],
   "source": [
    "# # Training loop\n",
    "# for _ in range(10):\n",
    "\n",
    "#     # Mini Batch\n",
    "#     ix = torch.randint(0, X.shape[0], (32,)) # 32 is batch size\n",
    "    \n",
    "#     # Forward Pass\n",
    "#     emb = C[X[ix]]\n",
    "#     h = torch.tanh((emb.view(-1,6) @ W1) + b1)\n",
    "#     logits = (h @ W2) + b2\n",
    "#     loss = F.cross_entropy(logits, y[ix])\n",
    "#     print(loss.item())\n",
    "\n",
    "#     # Backward\n",
    "#     for p in parameters:\n",
    "#         p.grad = None\n",
    "#     loss.backward()\n",
    "\n",
    "#     # Update\n",
    "#     for p in parameters:\n",
    "#         p.data += -0.01 * p.grad"
   ]
  },
  {
   "cell_type": "code",
   "execution_count": 20,
   "id": "b620c33f-03be-4d58-a48c-febcd82b7af6",
   "metadata": {},
   "outputs": [],
   "source": [
    "# x_ = 10 ** torch.linspace(-3, 0, 1000)\n",
    "# y_ = torch.linspace(0, 1, 1000)\n",
    "# plt.plot(x_, y_)"
   ]
  },
  {
   "cell_type": "code",
   "execution_count": 22,
   "id": "4f3dfae7-b2ee-4476-aa02-ef2b535cade1",
   "metadata": {},
   "outputs": [],
   "source": [
    "# Doubts on this method?? But a lr of 0.1 is noted to provide the least loss\n",
    "# plt.plot(lri, lossi)"
   ]
  },
  {
   "cell_type": "code",
   "execution_count": 23,
   "id": "ff61a349-0c25-4e2b-ac7a-57ad6ae901b7",
   "metadata": {
    "scrolled": true
   },
   "outputs": [],
   "source": [
    "# To determine an optimum learning rate we use x_ and also track loss\n",
    "# lri = []\n",
    "# lossi = []\n",
    "\n",
    "for i in range(10000):\n",
    "\n",
    "    # Mini Batch\n",
    "    ix = torch.randint(0, X_train.shape[0], (64,)) # 32 is batch size\n",
    "    \n",
    "    # Forward Pass\n",
    "    emb = C[X_train[ix]]\n",
    "    h = torch.tanh((emb.view(-1,6) @ W1) + b1)\n",
    "    logits = (h @ W2) + b2\n",
    "    loss = F.cross_entropy(logits, y_train[ix])\n",
    "    # print(loss.item())\n",
    "\n",
    "    # Backward\n",
    "    for p in parameters:\n",
    "        p.grad = None\n",
    "    loss.backward()\n",
    "\n",
    "    # Update\n",
    "    # lr = x_[i]\n",
    "    for p in parameters:\n",
    "        p.data += -0.001 * p.grad\n",
    "\n",
    "    # Tracking\n",
    "    # lri.append(lr.item())\n",
    "    # lossi.append(loss.item())"
   ]
  },
  {
   "cell_type": "code",
   "execution_count": 24,
   "id": "7bf07757-d089-42a1-b8ad-289c6354784f",
   "metadata": {},
   "outputs": [
    {
     "name": "stdout",
     "output_type": "stream",
     "text": [
      "3.658865213394165\n"
     ]
    }
   ],
   "source": [
    "# Training loss\n",
    "emb = C[X_train]\n",
    "h = torch.tanh((emb.view(-1,6) @ W1) + b1)\n",
    "logits = (h @ W2) + b2\n",
    "loss = F.cross_entropy(logits, y_train)\n",
    "print(loss.item())"
   ]
  },
  {
   "cell_type": "code",
   "execution_count": 25,
   "id": "effd45a3-4771-4c03-99ab-af078ff81011",
   "metadata": {},
   "outputs": [
    {
     "name": "stdout",
     "output_type": "stream",
     "text": [
      "3.5903074741363525\n"
     ]
    }
   ],
   "source": [
    "# Val loss\n",
    "emb = C[X_val]\n",
    "h = torch.tanh((emb.view(-1,6) @ W1) + b1)\n",
    "logits = (h @ W2) + b2\n",
    "loss = F.cross_entropy(logits, y_val)\n",
    "print(loss.item())"
   ]
  },
  {
   "cell_type": "code",
   "execution_count": 53,
   "id": "b1184d89-afcb-43a4-bfe7-d02f13f686f4",
   "metadata": {},
   "outputs": [
    {
     "data": {
      "image/png": "[encoded data removed]",
      "text/plain": [
       "<Figure size 800x800 with 1 Axes>"
      ]
     },
     "metadata": {},
     "output_type": "display_data"
    }
   ],
   "source": [
    "# visualize dimensions 0 and 1 of the embedding matrix C for all characters\n",
    "plt.figure(figsize=(8,8))\n",
    "plt.scatter(C[:,0].data, C[:,1].data, s=200)\n",
    "for i in range(C.shape[0]):\n",
    "    plt.text(C[i,0].item(), C[i,1].item(), itos[i], ha=\"center\", va=\"center\", color='white')\n",
    "plt.grid('minor')"
   ]
  },
  {
   "cell_type": "code",
   "execution_count": 109,
   "id": "b0885e81-3ee4-4eac-b74c-f00fbea7244e",
   "metadata": {},
   "outputs": [],
   "source": [
    "# For three dimensional embeddings\n",
    "g = torch.Generator().manual_seed(2147483647)\n",
    "C = torch.randn((27,20), generator=g)\n",
    "W1 = torch.randn((80,300), generator=g)\n",
    "b1 = torch.randn(300, generator=g)\n",
    "W2 = torch.randn((300,27), generator=g)\n",
    "b2 = torch.randn(27, generator=g)\n",
    "parameters = [C, W1, b1, W2, b2]"
   ]
  },
  {
   "cell_type": "code",
   "execution_count": 110,
   "id": "0da3d098-fe4a-4b22-a11a-8c8459bd932f",
   "metadata": {},
   "outputs": [],
   "source": [
    "for p in parameters:\n",
    "    p.requires_grad = True"
   ]
  },
  {
   "cell_type": "code",
   "execution_count": 137,
   "id": "82db47d6-d7fb-4707-bf4a-7588edf696b9",
   "metadata": {},
   "outputs": [],
   "source": [
    "for _ in range(50000):\n",
    "\n",
    "    ix = torch.randint(0, X_train.shape[0], (64,))\n",
    "    \n",
    "    # Forward pass\n",
    "    emb = C[X_train[ix]]\n",
    "    h = torch.tanh((emb.view(-1,80) @ W1) + b1)\n",
    "    logits = (h @ W2) + b2\n",
    "    loss = F.cross_entropy(logits, y_train[ix])\n",
    "    \n",
    "    # Backwards pass\n",
    "    for p in parameters:\n",
    "        p.grad = None\n",
    "    loss.backward()\n",
    "    \n",
    "    # Update\n",
    "    for p in parameters:\n",
    "        p.data += -0.001 * p.grad"
   ]
  },
  {
   "cell_type": "code",
   "execution_count": 138,
   "id": "a1b0dc7c-7f22-489d-8bd1-a3c08e2ee374",
   "metadata": {},
   "outputs": [
    {
     "name": "stdout",
     "output_type": "stream",
     "text": [
      "2.1279263496398926\n"
     ]
    }
   ],
   "source": [
    "# Training loss\n",
    "emb = C[X_train]\n",
    "h = torch.tanh((emb.view(-1,80) @ W1) + b1)\n",
    "logits = (h @ W2) + b2\n",
    "loss = F.cross_entropy(logits, y_train)\n",
    "print(loss.item())"
   ]
  },
  {
   "cell_type": "code",
   "execution_count": 139,
   "id": "847c4f6f-b3db-4a9c-a72d-f2ceb8908e46",
   "metadata": {},
   "outputs": [
    {
     "name": "stdout",
     "output_type": "stream",
     "text": [
      "2.187711715698242\n"
     ]
    }
   ],
   "source": [
    "# Val loss\n",
    "emb = C[X_val]\n",
    "h = torch.tanh((emb.view(-1,80) @ W1) + b1)\n",
    "logits = (h @ W2) + b2\n",
    "loss = F.cross_entropy(logits, y_val)\n",
    "print(loss.item())"
   ]
  },
  {
   "cell_type": "code",
   "execution_count": 142,
   "id": "37e89433-c9b0-49d1-9abe-d3d5c0e1abd5",
   "metadata": {},
   "outputs": [
    {
     "name": "stdout",
     "output_type": "stream",
     "text": [
      "2.2047617435455322\n"
     ]
    }
   ],
   "source": [
    "# Test loss\n",
    "emb = C[X_test]\n",
    "h = torch.tanh((emb.view(-1,80) @ W1) + b1)\n",
    "logits = (h @ W2) + b2\n",
    "loss = F.cross_entropy(logits, y_test)\n",
    "print(loss.item())\n",
    "# 2.208 of embeddings of 10 dim and nn of (30,300,27), 3 words as input\n",
    "# 2.204 of embeddings of 20 dim and nn of (80,300,27), 4 words as input"
   ]
  },
  {
   "cell_type": "markdown",
   "id": "efed7c2b-90db-48e5-a69d-b91210e3b38d",
   "metadata": {},
   "source": [
    "### Exercise 1"
   ]
  },
  {
   "cell_type": "markdown",
   "id": "b99705c8-f778-44e8-9859-b91e4335dc22",
   "metadata": {},
   "source": [
    "With tuned hyperparameter was able to achieve a val loss of 2.18"
   ]
  },
  {
   "cell_type": "markdown",
   "id": "5f3c3a37-370f-4989-b745-16811b6bb301",
   "metadata": {},
   "source": [
    "### Exercise 2"
   ]
  },
  {
   "cell_type": "code",
   "execution_count": 154,
   "id": "16d3eef9-e871-4d42-b057-38842d3b8a9b",
   "metadata": {},
   "outputs": [
    {
     "name": "stdout",
     "output_type": "stream",
     "text": [
      "3.29583740234375\n"
     ]
    }
   ],
   "source": [
    "# Training loss if predicted probabilities were uniform\n",
    "logits = torch.ones([y_train.shape[0],27])/27\n",
    "loss = F.cross_entropy(logits, y_train)\n",
    "print(loss.item())"
   ]
  },
  {
   "cell_type": "code",
   "execution_count": 156,
   "id": "ec33d51f-da87-4fc9-ba78-d317a2761347",
   "metadata": {},
   "outputs": [],
   "source": [
    "# With Xavier Initilization\n",
    "# g = torch.Generator().manual_seed(2147483647)\n",
    "C = torch.empty((27,20))\n",
    "torch.nn.init.xavier_uniform_(C)\n",
    "W1 = torch.empty((80,300))\n",
    "torch.nn.init.xavier_uniform_(W1)\n",
    "b1 = torch.zeros(300)\n",
    "W2 = torch.empty((300,27))\n",
    "torch.nn.init.xavier_uniform_(W2)\n",
    "b2 = torch.zeros(27)\n",
    "parameters = [C, W1, b1, W2, b2]"
   ]
  },
  {
   "cell_type": "code",
   "execution_count": 157,
   "id": "a33df29d-386e-4e28-94ce-457fa12ffde0",
   "metadata": {},
   "outputs": [],
   "source": [
    "for p in parameters:\n",
    "    p.requires_grad = True"
   ]
  },
  {
   "cell_type": "code",
   "execution_count": 176,
   "id": "d37c79d0-7edd-4092-9dce-0634f6759e09",
   "metadata": {},
   "outputs": [],
   "source": [
    "for _ in range(50000):\n",
    "\n",
    "    ix = torch.randint(0, X_train.shape[0], (64,))\n",
    "    \n",
    "    # Forward pass\n",
    "    emb = C[X_train[ix]]\n",
    "    h = torch.tanh((emb.view(-1,80) @ W1) + b1)\n",
    "    logits = (h @ W2) + b2\n",
    "    loss = F.cross_entropy(logits, y_train[ix])\n",
    "    \n",
    "    # Backwards pass\n",
    "    for p in parameters:\n",
    "        p.grad = None\n",
    "    loss.backward()\n",
    "    \n",
    "    # Update\n",
    "    for p in parameters:\n",
    "        p.data += -0.001 * p.grad"
   ]
  },
  {
   "cell_type": "code",
   "execution_count": 177,
   "id": "9e8b13cc-b915-4fa0-84e0-fd663880534f",
   "metadata": {},
   "outputs": [
    {
     "name": "stdout",
     "output_type": "stream",
     "text": [
      "Training loss: 1.9891856908798218\n",
      "Val loss: 2.049806594848633\n"
     ]
    }
   ],
   "source": [
    "# Training loss\n",
    "emb = C[X_train]\n",
    "h = torch.tanh((emb.view(-1,80) @ W1) + b1)\n",
    "logits = (h @ W2) + b2\n",
    "loss = F.cross_entropy(logits, y_train)\n",
    "print(f\"Training loss: {loss.item()}\")\n",
    "\n",
    "# Val loss\n",
    "emb = C[X_val]\n",
    "h = torch.tanh((emb.view(-1,80) @ W1) + b1)\n",
    "logits = (h @ W2) + b2\n",
    "loss = F.cross_entropy(logits, y_val)\n",
    "print(f\"Val loss: {loss.item()}\")"
   ]
  },
  {
   "cell_type": "code",
   "execution_count": 179,
   "id": "1ea41989-ac51-4142-8860-e8c19d7a2ff9",
   "metadata": {},
   "outputs": [
    {
     "name": "stdout",
     "output_type": "stream",
     "text": [
      "2.0503861904144287\n"
     ]
    }
   ],
   "source": [
    "# Test loss\n",
    "emb = C[X_test]\n",
    "h = torch.tanh((emb.view(-1,80) @ W1) + b1)\n",
    "logits = (h @ W2) + b2\n",
    "loss = F.cross_entropy(logits, y_test)\n",
    "print(loss.item())\n",
    "# 2.050 for Xavier initialized network"
   ]
  },
  {
   "cell_type": "code",
   "execution_count": null,
   "id": "dd60ee3e-3f4f-499b-9c9e-c708e04be663",
   "metadata": {},
   "outputs": [],
   "source": []
  }
 ],
 "metadata": {
  "kernelspec": {
   "display_name": "Python 3 (ipykernel)",
   "language": "python",
   "name": "python3"
  },
  "language_info": {
   "codemirror_mode": {
    "name": "ipython",
    "version": 3
   },
   "file_extension": ".py",
   "mimetype": "text/x-python",
   "name": "python",
   "nbconvert_exporter": "python",
   "pygments_lexer": "ipython3",
   "version": "3.10.10"
  }
 },
 "nbformat": 4,
 "nbformat_minor": 5
}
