{
 "cells": [
  {
   "cell_type": "markdown",
   "id": "868b5596-8c93-4e06-b3cc-b9b23d7eb659",
   "metadata": {},
   "source": [
    "## Building makemore Part 2: MLP\n",
    "#### https://www.youtube.com/watch?v=TCH_1BHY58I"
   ]
  },
  {
   "cell_type": "code",
   "execution_count": 1,
   "id": "04ef82c5-d64e-4974-bf09-9c469642b580",
   "metadata": {},
   "outputs": [],
   "source": [
    "import torch\n",
    "import torch.nn.functional as F\n",
    "import matplotlib.pyplot as plt\n",
    "%matplotlib inline"
   ]
  },
  {
   "cell_type": "code",
   "execution_count": 2,
   "id": "bdccf2bf-665d-4229-bc3e-e2cf0f6ef885",
   "metadata": {},
   "outputs": [
    {
     "data": {
      "text/plain": [
       "['emma', 'olivia', 'ava', 'isabella', 'sophia']"
      ]
     },
     "execution_count": 2,
     "metadata": {},
     "output_type": "execute_result"
    }
   ],
   "source": [
    "words = open(\"data/names.txt\", \"r\").read().splitlines()\n",
    "words[:5]"
   ]
  },
  {
   "cell_type": "code",
   "execution_count": 3,
   "id": "f5c05b01-33eb-4de0-8d9d-952f1c0e9cd0",
   "metadata": {},
   "outputs": [
    {
     "data": {
      "text/plain": [
       "32033"
      ]
     },
     "execution_count": 3,
     "metadata": {},
     "output_type": "execute_result"
    }
   ],
   "source": [
    "len(words)"
   ]
  },
  {
   "cell_type": "code",
   "execution_count": 4,
   "id": "1288bf2c-a4da-4cbb-ba44-63f4782ab29f",
   "metadata": {},
   "outputs": [
    {
     "name": "stdout",
     "output_type": "stream",
     "text": [
      "{1: 'a', 2: 'b', 3: 'c', 4: 'd', 5: 'e', 6: 'f', 7: 'g', 8: 'h', 9: 'i', 10: 'j', 11: 'k', 12: 'l', 13: 'm', 14: 'n', 15: 'o', 16: 'p', 17: 'q', 18: 'r', 19: 's', 20: 't', 21: 'u', 22: 'v', 23: 'w', 24: 'x', 25: 'y', 26: 'z', 0: '.'}\n"
     ]
    }
   ],
   "source": [
    "chars = sorted(list(set(\"\".join(words))))\n",
    "stoi = {s:i for i,s in enumerate(chars,1)}\n",
    "stoi[\".\"] = 0\n",
    "itos = {i:s for s,i in stoi.items()}\n",
    "print(itos)"
   ]
  },
  {
   "cell_type": "code",
   "execution_count": 47,
   "id": "50b1d26c-2c92-4728-88bd-c157b0cde49e",
   "metadata": {},
   "outputs": [],
   "source": [
    "# Creating training dataset\n",
    "block_size = 3\n",
    "X, y = [], []\n",
    "\n",
    "for name in words:\n",
    "    window = [0] * block_size\n",
    "    for n in name + \".\":\n",
    "        n = stoi[n]\n",
    "        X.append(window)\n",
    "        y.append(n)\n",
    "        window = window[1:] + [n]\n",
    "\n",
    "X = torch.tensor(X)\n",
    "y = torch.tensor(y)"
   ]
  },
  {
   "cell_type": "code",
   "execution_count": 46,
   "id": "9d1ba028-66ae-4f49-96b8-92595066d232",
   "metadata": {},
   "outputs": [
    {
     "name": "stdout",
     "output_type": "stream",
     "text": [
      "torch.Size([228146, 3])\n",
      "torch.Size([228146])\n"
     ]
    }
   ],
   "source": [
    "# Dataset of 228146 examples with three words being fed into the neural network to predict the next single letter\n",
    "print(X.shape)\n",
    "print(y.shape)"
   ]
  },
  {
   "cell_type": "code",
   "execution_count": 52,
   "id": "719ba769-973c-42d7-b95b-d1d59f1d3981",
   "metadata": {},
   "outputs": [],
   "source": [
    "# Look up table containing embeddings for each letter (representing each word a two dimentional vector)\n",
    "C = torch.randn((27,2))"
   ]
  },
  {
   "cell_type": "code",
   "execution_count": 53,
   "id": "02794d73-c122-4441-90c0-f642dd510ff1",
   "metadata": {},
   "outputs": [
    {
     "name": "stdout",
     "output_type": "stream",
     "text": [
      "torch.Size([228146, 3, 2])\n"
     ]
    }
   ],
   "source": [
    "# Appling them in the dataset\n",
    "emb = C[X]\n",
    "print(emb.shape)\n",
    "# Shape [examples, three_letter, two_dimentional_vector_to_represent_each_letter]"
   ]
  },
  {
   "cell_type": "code",
   "execution_count": 54,
   "id": "9be5096d-62d3-4ce6-af9b-074a74b9fa96",
   "metadata": {},
   "outputs": [
    {
     "data": {
      "text/plain": [
       "torch.Size([228146, 6])"
      ]
     },
     "execution_count": 54,
     "metadata": {},
     "output_type": "execute_result"
    }
   ],
   "source": [
    "# According to Bengio paper, three word embeddings are concatenated and fed into the neural network\n",
    "# Use .view() to manipulate the shape of a tensor **most efficient\n",
    "emb.view(-1,6).shape"
   ]
  },
  {
   "cell_type": "code",
   "execution_count": 55,
   "id": "c9f5d69b-e5ed-4019-bd09-df4b1706a61f",
   "metadata": {},
   "outputs": [],
   "source": [
    "# Defining the two layer neural network\n",
    "g = torch.Generator().manual_seed(2147483647)\n",
    "C = torch.randn((27,2), generator=g)\n",
    "W1 = torch.randn((6,100), generator=g)\n",
    "b1 = torch.randn(100, generator=g)\n",
    "W2 = torch.randn((100,27), generator=g)\n",
    "b2 = torch.randn(27, generator=g)"
   ]
  },
  {
   "cell_type": "code",
   "execution_count": null,
   "id": "af9900fb-e439-46c3-86c3-fa699025d030",
   "metadata": {},
   "outputs": [],
   "source": [
    "emb = C[X]\n",
    "h = "
   ]
  },
  {
   "cell_type": "code",
   "execution_count": 57,
   "id": "ad5b4a0c-77b9-4c52-8a6b-e927c0897a6b",
   "metadata": {},
   "outputs": [
    {
     "data": {
      "text/plain": [
       "torch.Size([228146, 100])"
      ]
     },
     "execution_count": 57,
     "metadata": {},
     "output_type": "execute_result"
    }
   ],
   "source": [
    "(emb.view(-1,6) @ W1).shape"
   ]
  },
  {
   "cell_type": "code",
   "execution_count": 58,
   "id": "02927bc8-234b-42ec-a51b-9214ee2e4016",
   "metadata": {},
   "outputs": [],
   "source": [
    "# Think about how adding bias dimension matters"
   ]
  },
  {
   "cell_type": "code",
   "execution_count": null,
   "id": "875e293e-06ad-49ed-95d6-49d508d3f9f6",
   "metadata": {},
   "outputs": [],
   "source": []
  }
 ],
 "metadata": {
  "kernelspec": {
   "display_name": "Python 3 (ipykernel)",
   "language": "python",
   "name": "python3"
  },
  "language_info": {
   "codemirror_mode": {
    "name": "ipython",
    "version": 3
   },
   "file_extension": ".py",
   "mimetype": "text/x-python",
   "name": "python",
   "nbconvert_exporter": "python",
   "pygments_lexer": "ipython3",
   "version": "3.10.10"
  }
 },
 "nbformat": 4,
 "nbformat_minor": 5
}
