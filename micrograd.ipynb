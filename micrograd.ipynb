{
 "cells": [
  {
   "cell_type": "markdown",
   "id": "2f6fe938-58ff-4f2f-9dc7-f027e4764c64",
   "metadata": {},
   "source": [
    "## Micrograd Lecture\n",
    "#### https://youtu.be/VMj-3S1tku0?si=L9uoak1hkI_eeD3T"
   ]
  },
  {
   "cell_type": "code",
   "execution_count": 1,
   "id": "13b02009-c492-49f8-8414-5e3f8ebfb551",
   "metadata": {},
   "outputs": [],
   "source": [
    "import math\n",
    "import numpy as np\n",
    "import matplotlib.pyplot as plt"
   ]
  },
  {
   "cell_type": "code",
   "execution_count": 2,
   "id": "ee0d2bcf-90f3-4232-ba4f-9a5603715dc8",
   "metadata": {},
   "outputs": [],
   "source": [
    "def func1(x):\n",
    "    return 2*x**3 + 5*x + 3"
   ]
  },
  {
   "cell_type": "code",
   "execution_count": 3,
   "id": "10d02c40-74ca-4a67-8679-1f76420cee8e",
   "metadata": {},
   "outputs": [],
   "source": [
    "x = np.arange(-5, 5, 0.25)\n",
    "y = func1(x)"
   ]
  },
  {
   "cell_type": "code",
   "execution_count": 4,
   "id": "d99c2223-db00-43eb-8316-7152f7859836",
   "metadata": {},
   "outputs": [
    {
     "data": {
      "text/plain": [
       "[<matplotlib.lines.Line2D at 0x107c4a440>]"
      ]
     },
     "execution_count": 4,
     "metadata": {},
     "output_type": "execute_result"
    },
    {
     "data": {
      "image/png": "[encoded data removed]",
      "text/plain": [
       "<Figure size 640x480 with 1 Axes>"
      ]
     },
     "metadata": {},
     "output_type": "display_data"
    }
   ],
   "source": [
    "plt.plot(x,y)"
   ]
  },
  {
   "cell_type": "markdown",
   "id": "e59e9957-7590-46ae-9171-a0560fb31e9c",
   "metadata": {},
   "source": [
    "#### Finding the slope at -3 aka the derivative of this function at -3\n",
    "\n",
    "$$\n",
    "f'(x) = \\frac{f(x+h)-f(x)}{h}\n",
    "$$"
   ]
  },
  {
   "cell_type": "code",
   "execution_count": 5,
   "id": "999305fd-cc5b-4156-8523-e8850799c17a",
   "metadata": {},
   "outputs": [
    {
     "data": {
      "text/plain": [
       "58.99999820258017"
      ]
     },
     "execution_count": 5,
     "metadata": {},
     "output_type": "execute_result"
    }
   ],
   "source": [
    "h = 0.0000001\n",
    "(func1(-3+h)-func1(-3))/h # +ve"
   ]
  },
  {
   "cell_type": "code",
   "execution_count": 6,
   "id": "a7c65392-525f-461a-bce9-c19db80d4b3a",
   "metadata": {},
   "outputs": [
    {
     "data": {
      "text/plain": [
       "5.00000000069889"
      ]
     },
     "execution_count": 6,
     "metadata": {},
     "output_type": "execute_result"
    }
   ],
   "source": [
    "(func1(0+h)-func1(0))/h # +ve"
   ]
  },
  {
   "cell_type": "markdown",
   "id": "f2ba2c8a-0732-4ef3-868d-dba8bf87f2d4",
   "metadata": {},
   "source": [
    "#### equation with multiple variables"
   ]
  },
  {
   "cell_type": "code",
   "execution_count": 7,
   "id": "6decf46b-6cbc-41eb-b833-f401a9471f3c",
   "metadata": {},
   "outputs": [
    {
     "name": "stdout",
     "output_type": "stream",
     "text": [
      "d1: 4.0\n",
      "d2: 3.9999997\n",
      "slope: -2.9999999995311555\n"
     ]
    }
   ],
   "source": [
    "a = 2.0\n",
    "b = -3.0\n",
    "c = 10.0\n",
    "\n",
    "d1 = a*b + c\n",
    "a += h\n",
    "d2 = a*b + c\n",
    "\n",
    "print(\"d1:\", d1)\n",
    "print(\"d2:\", d2)\n",
    "print(\"slope:\", (d2-d1)/h)"
   ]
  },
  {
   "cell_type": "markdown",
   "id": "690f945e-3912-4e4f-9ea0-8811b04c6fd5",
   "metadata": {},
   "source": [
    "#### Creating the Value class"
   ]
  },
  {
   "cell_type": "code",
   "execution_count": 8,
   "id": "51432843-4f27-4a76-b521-47694110d5e9",
   "metadata": {},
   "outputs": [],
   "source": [
    "class Value:\n",
    "    def __init__(self, data, _children=(), _op=\"\", label=\"\"):\n",
    "        self.data = data\n",
    "        self.grad = 0.0\n",
    "        self._prev = set(_children)\n",
    "        self._op = _op\n",
    "        self.label = label\n",
    "\n",
    "    def __add__(self, other):\n",
    "        return Value(self.data + other.data, (self, other), \"+\")\n",
    "\n",
    "    def __mul__(self, other):\n",
    "        return Value(self.data * other.data, (self, other), \"*\")\n",
    "        \n",
    "    def __repr__(self):\n",
    "        return f\"Value(data={self.data})\""
   ]
  },
  {
   "cell_type": "code",
   "execution_count": 10,
   "id": "4f81dbfb-4133-4501-982c-b233313178c4",
   "metadata": {},
   "outputs": [],
   "source": [
    "a = Value(2.0, label=\"a\")\n",
    "b = Value(-3.0, label=\"b\")\n",
    "c = Value(10.0, label=\"c\")\n",
    "e = a*b\n",
    "e.label = \"e\"\n",
    "d = e + c\n",
    "d.label = \"d\"\n",
    "f = Value(-2.0, label=\"f\")\n",
    "L = d*f; L.label=\"L\""
   ]
  },
  {
   "cell_type": "code",
   "execution_count": 27,
   "id": "0a66497e-0087-460d-a5b9-389da0b1e436",
   "metadata": {},
   "outputs": [
    {
     "name": "stdout",
     "output_type": "stream",
     "text": [
      "0.0\n"
     ]
    }
   ],
   "source": [
    "# Check why dL/db = 0??? It shouldnt be\n",
    "def comp():\n",
    "    \n",
    "    h = 0.0001\n",
    "    \n",
    "    a = Value(2.0, label=\"a\")\n",
    "    b = Value(-3.0, label=\"b\")\n",
    "    c = Value(10.0, label=\"c\")\n",
    "    e = a*b\n",
    "    d = e + c\n",
    "    f = Value(-2.0, label=\"f\")\n",
    "    L = d*f\n",
    "    L1 = L.data\n",
    "\n",
    "    a = Value(2.0, label=\"a\")\n",
    "    # a.data += h\n",
    "    b.data += h\n",
    "    b = Value(-3.0, label=\"b\")\n",
    "    c = Value(10.0, label=\"c\")\n",
    "    e = a*b\n",
    "    d = e + c\n",
    "    f = Value(-2.0, label=\"f\")\n",
    "    L = d*f\n",
    "    L2 = L.data\n",
    "\n",
    "    print((L2 - L1)/h)\n",
    "\n",
    "comp()"
   ]
  },
  {
   "cell_type": "code",
   "execution_count": 12,
   "id": "3fd4ed9e-2ae6-4ec8-8c4f-b7109da91e69",
   "metadata": {},
   "outputs": [],
   "source": [
    "# Visualization function\n",
    "from graphviz import Digraph\n",
    "\n",
    "def trace(root):\n",
    "  # builds a set of all nodes and edges in a graph\n",
    "  nodes, edges = set(), set()\n",
    "  def build(v):\n",
    "    if v not in nodes:\n",
    "      nodes.add(v)\n",
    "      for child in v._prev:\n",
    "        edges.add((child, v))\n",
    "        build(child)\n",
    "  build(root)\n",
    "  return nodes, edges\n",
    "\n",
    "def draw_dot(root):\n",
    "  dot = Digraph(format='svg', graph_attr={'rankdir': 'LR'}) # LR = left to right\n",
    "  \n",
    "  nodes, edges = trace(root)\n",
    "  for n in nodes:\n",
    "    uid = str(id(n))\n",
    "    # for any value in the graph, create a rectangular ('record') node for it\n",
    "    dot.node(name = uid, label = \"{ %s | data %.4f | grad %.4f }\" % (n.label, n.data, n.grad), shape='record')\n",
    "    if n._op:\n",
    "      # if this value is a result of some operation, create an op node for it\n",
    "      dot.node(name = uid + n._op, label = n._op)\n",
    "      # and connect this node to it\n",
    "      dot.edge(uid + n._op, uid)\n",
    "\n",
    "  for n1, n2 in edges:\n",
    "    # connect n1 to the op node of n2\n",
    "    dot.edge(str(id(n1)), str(id(n2)) + n2._op)\n",
    "\n",
    "  return dot"
   ]
  },
  {
   "cell_type": "code",
   "execution_count": 16,
   "id": "69205093-4d33-4fc5-bb78-cc867b462987",
   "metadata": {},
   "outputs": [
    {
     "data": {
      "image/svg+xml": [
       "<?xml version=\"1.0\" encoding=\"UTF-8\" standalone=\"no\"?>\n",
       "<!DOCTYPE svg PUBLIC \"-//W3C//DTD SVG 1.1//EN\"\n",
       " \"http://www.w3.org/Graphics/SVG/1.1/DTD/svg11.dtd\">\n",
       "<!-- Generated by graphviz version 12.1.2 (20240928.0832)\n",
       " -->\n",
       "<!-- Pages: 1 -->\n",
       "<svg width=\"1140pt\" height=\"128pt\"\n",
       " viewBox=\"0.00 0.00 1139.75 128.00\" xmlns=\"http://www.w3.org/2000/svg\" xmlns:xlink=\"http://www.w3.org/1999/xlink\">\n",
       "<g id=\"graph0\" class=\"graph\" transform=\"scale(1 1) rotate(0) translate(4 124)\">\n",
       "<polygon fill=\"white\" stroke=\"none\" points=\"-4,4 -4,-124 1135.75,-124 1135.75,4 -4,4\"/>\n",
       "<!-- 4425824384 -->\n",
       "<g id=\"node1\" class=\"node\">\n",
       "<title>4425824384</title>\n",
       "<polygon fill=\"none\" stroke=\"black\" points=\"314.25,-83.5 314.25,-119.5 504,-119.5 504,-83.5 314.25,-83.5\"/>\n",
       "<text text-anchor=\"middle\" x=\"325.25\" y=\"-96.7\" font-family=\"Times,serif\" font-size=\"14.00\">c</text>\n",
       "<polyline fill=\"none\" stroke=\"black\" points=\"336.25,-84 336.25,-119.5\"/>\n",
       "<text text-anchor=\"middle\" x=\"379.5\" y=\"-96.7\" font-family=\"Times,serif\" font-size=\"14.00\">data 10.0000</text>\n",
       "<polyline fill=\"none\" stroke=\"black\" points=\"422.75,-84 422.75,-119.5\"/>\n",
       "<text text-anchor=\"middle\" x=\"463.38\" y=\"-96.7\" font-family=\"Times,serif\" font-size=\"14.00\">grad 0.0000</text>\n",
       "</g>\n",
       "<!-- 4425824432+ -->\n",
       "<g id=\"node6\" class=\"node\">\n",
       "<title>4425824432+</title>\n",
       "<ellipse fill=\"none\" stroke=\"black\" cx=\"567\" cy=\"-73.5\" rx=\"27\" ry=\"18\"/>\n",
       "<text text-anchor=\"middle\" x=\"567\" y=\"-68.45\" font-family=\"Times,serif\" font-size=\"14.00\">+</text>\n",
       "</g>\n",
       "<!-- 4425824384&#45;&gt;4425824432+ -->\n",
       "<g id=\"edge5\" class=\"edge\">\n",
       "<title>4425824384&#45;&gt;4425824432+</title>\n",
       "<path fill=\"none\" stroke=\"black\" d=\"M504.39,-84.57C513.16,-82.99 521.65,-81.47 529.37,-80.08\"/>\n",
       "<polygon fill=\"black\" stroke=\"black\" points=\"529.73,-83.57 538.95,-78.36 528.49,-76.68 529.73,-83.57\"/>\n",
       "</g>\n",
       "<!-- 4425825968 -->\n",
       "<g id=\"node2\" class=\"node\">\n",
       "<title>4425825968</title>\n",
       "<polygon fill=\"none\" stroke=\"black\" points=\"942,-27.5 942,-63.5 1131.75,-63.5 1131.75,-27.5 942,-27.5\"/>\n",
       "<text text-anchor=\"middle\" x=\"954.12\" y=\"-40.7\" font-family=\"Times,serif\" font-size=\"14.00\">L</text>\n",
       "<polyline fill=\"none\" stroke=\"black\" points=\"966.25,-28 966.25,-63.5\"/>\n",
       "<text text-anchor=\"middle\" x=\"1008.38\" y=\"-40.7\" font-family=\"Times,serif\" font-size=\"14.00\">data &#45;8.0000</text>\n",
       "<polyline fill=\"none\" stroke=\"black\" points=\"1050.5,-28 1050.5,-63.5\"/>\n",
       "<text text-anchor=\"middle\" x=\"1091.12\" y=\"-40.7\" font-family=\"Times,serif\" font-size=\"14.00\">grad 0.0000</text>\n",
       "</g>\n",
       "<!-- 4425825968* -->\n",
       "<g id=\"node3\" class=\"node\">\n",
       "<title>4425825968*</title>\n",
       "<ellipse fill=\"none\" stroke=\"black\" cx=\"879\" cy=\"-45.5\" rx=\"27\" ry=\"18\"/>\n",
       "<text text-anchor=\"middle\" x=\"879\" y=\"-40.45\" font-family=\"Times,serif\" font-size=\"14.00\">*</text>\n",
       "</g>\n",
       "<!-- 4425825968*&#45;&gt;4425825968 -->\n",
       "<g id=\"edge1\" class=\"edge\">\n",
       "<title>4425825968*&#45;&gt;4425825968</title>\n",
       "<path fill=\"none\" stroke=\"black\" d=\"M906.44,-45.5C913.59,-45.5 921.78,-45.5 930.49,-45.5\"/>\n",
       "<polygon fill=\"black\" stroke=\"black\" points=\"930.26,-49 940.26,-45.5 930.26,-42 930.26,-49\"/>\n",
       "</g>\n",
       "<!-- 4425824960 -->\n",
       "<g id=\"node4\" class=\"node\">\n",
       "<title>4425824960</title>\n",
       "<polygon fill=\"none\" stroke=\"black\" points=\"2.62,-56.5 2.62,-92.5 185.62,-92.5 185.62,-56.5 2.62,-56.5\"/>\n",
       "<text text-anchor=\"middle\" x=\"13.62\" y=\"-69.7\" font-family=\"Times,serif\" font-size=\"14.00\">a</text>\n",
       "<polyline fill=\"none\" stroke=\"black\" points=\"24.62,-57 24.62,-92.5\"/>\n",
       "<text text-anchor=\"middle\" x=\"64.5\" y=\"-69.7\" font-family=\"Times,serif\" font-size=\"14.00\">data 2.0000</text>\n",
       "<polyline fill=\"none\" stroke=\"black\" points=\"104.38,-57 104.38,-92.5\"/>\n",
       "<text text-anchor=\"middle\" x=\"145\" y=\"-69.7\" font-family=\"Times,serif\" font-size=\"14.00\">grad 0.0000</text>\n",
       "</g>\n",
       "<!-- 4425824720* -->\n",
       "<g id=\"node9\" class=\"node\">\n",
       "<title>4425824720*</title>\n",
       "<ellipse fill=\"none\" stroke=\"black\" cx=\"251.25\" cy=\"-46.5\" rx=\"27\" ry=\"18\"/>\n",
       "<text text-anchor=\"middle\" x=\"251.25\" y=\"-41.45\" font-family=\"Times,serif\" font-size=\"14.00\">*</text>\n",
       "</g>\n",
       "<!-- 4425824960&#45;&gt;4425824720* -->\n",
       "<g id=\"edge9\" class=\"edge\">\n",
       "<title>4425824960&#45;&gt;4425824720*</title>\n",
       "<path fill=\"none\" stroke=\"black\" d=\"M185.81,-58.13C195.66,-56.35 205.21,-54.63 213.82,-53.08\"/>\n",
       "<polygon fill=\"black\" stroke=\"black\" points=\"214.19,-56.57 223.41,-51.34 212.95,-49.68 214.19,-56.57\"/>\n",
       "</g>\n",
       "<!-- 4425824432 -->\n",
       "<g id=\"node5\" class=\"node\">\n",
       "<title>4425824432</title>\n",
       "<polygon fill=\"none\" stroke=\"black\" points=\"631.12,-55.5 631.12,-91.5 814.88,-91.5 814.88,-55.5 631.12,-55.5\"/>\n",
       "<text text-anchor=\"middle\" x=\"642.5\" y=\"-68.7\" font-family=\"Times,serif\" font-size=\"14.00\">d</text>\n",
       "<polyline fill=\"none\" stroke=\"black\" points=\"653.88,-56 653.88,-91.5\"/>\n",
       "<text text-anchor=\"middle\" x=\"693.75\" y=\"-68.7\" font-family=\"Times,serif\" font-size=\"14.00\">data 4.0000</text>\n",
       "<polyline fill=\"none\" stroke=\"black\" points=\"733.62,-56 733.62,-91.5\"/>\n",
       "<text text-anchor=\"middle\" x=\"774.25\" y=\"-68.7\" font-family=\"Times,serif\" font-size=\"14.00\">grad 0.0000</text>\n",
       "</g>\n",
       "<!-- 4425824432&#45;&gt;4425825968* -->\n",
       "<g id=\"edge6\" class=\"edge\">\n",
       "<title>4425824432&#45;&gt;4425825968*</title>\n",
       "<path fill=\"none\" stroke=\"black\" d=\"M815.36,-56.89C824.5,-55.23 833.36,-53.62 841.4,-52.15\"/>\n",
       "<polygon fill=\"black\" stroke=\"black\" points=\"841.83,-55.63 851.04,-50.4 840.57,-48.75 841.83,-55.63\"/>\n",
       "</g>\n",
       "<!-- 4425824432+&#45;&gt;4425824432 -->\n",
       "<g id=\"edge2\" class=\"edge\">\n",
       "<title>4425824432+&#45;&gt;4425824432</title>\n",
       "<path fill=\"none\" stroke=\"black\" d=\"M594.47,-73.5C601.87,-73.5 610.38,-73.5 619.43,-73.5\"/>\n",
       "<polygon fill=\"black\" stroke=\"black\" points=\"619.17,-77 629.17,-73.5 619.17,-70 619.17,-77\"/>\n",
       "</g>\n",
       "<!-- 4425812336 -->\n",
       "<g id=\"node7\" class=\"node\">\n",
       "<title>4425812336</title>\n",
       "<polygon fill=\"none\" stroke=\"black\" points=\"630,-0.5 630,-36.5 816,-36.5 816,-0.5 630,-0.5\"/>\n",
       "<text text-anchor=\"middle\" x=\"640.25\" y=\"-13.7\" font-family=\"Times,serif\" font-size=\"14.00\">f</text>\n",
       "<polyline fill=\"none\" stroke=\"black\" points=\"650.5,-1 650.5,-36.5\"/>\n",
       "<text text-anchor=\"middle\" x=\"692.62\" y=\"-13.7\" font-family=\"Times,serif\" font-size=\"14.00\">data &#45;2.0000</text>\n",
       "<polyline fill=\"none\" stroke=\"black\" points=\"734.75,-1 734.75,-36.5\"/>\n",
       "<text text-anchor=\"middle\" x=\"775.38\" y=\"-13.7\" font-family=\"Times,serif\" font-size=\"14.00\">grad 0.0000</text>\n",
       "</g>\n",
       "<!-- 4425812336&#45;&gt;4425825968* -->\n",
       "<g id=\"edge8\" class=\"edge\">\n",
       "<title>4425812336&#45;&gt;4425825968*</title>\n",
       "<path fill=\"none\" stroke=\"black\" d=\"M816.25,-34.67C825.01,-36.21 833.5,-37.7 841.24,-39.05\"/>\n",
       "<polygon fill=\"black\" stroke=\"black\" points=\"840.39,-42.46 850.84,-40.74 841.6,-35.56 840.39,-42.46\"/>\n",
       "</g>\n",
       "<!-- 4425824720 -->\n",
       "<g id=\"node8\" class=\"node\">\n",
       "<title>4425824720</title>\n",
       "<polygon fill=\"none\" stroke=\"black\" points=\"315.38,-28.5 315.38,-64.5 502.88,-64.5 502.88,-28.5 315.38,-28.5\"/>\n",
       "<text text-anchor=\"middle\" x=\"326.38\" y=\"-41.7\" font-family=\"Times,serif\" font-size=\"14.00\">e</text>\n",
       "<polyline fill=\"none\" stroke=\"black\" points=\"337.38,-29 337.38,-64.5\"/>\n",
       "<text text-anchor=\"middle\" x=\"379.5\" y=\"-41.7\" font-family=\"Times,serif\" font-size=\"14.00\">data &#45;6.0000</text>\n",
       "<polyline fill=\"none\" stroke=\"black\" points=\"421.62,-29 421.62,-64.5\"/>\n",
       "<text text-anchor=\"middle\" x=\"462.25\" y=\"-41.7\" font-family=\"Times,serif\" font-size=\"14.00\">grad 0.0000</text>\n",
       "</g>\n",
       "<!-- 4425824720&#45;&gt;4425824432+ -->\n",
       "<g id=\"edge4\" class=\"edge\">\n",
       "<title>4425824720&#45;&gt;4425824432+</title>\n",
       "<path fill=\"none\" stroke=\"black\" d=\"M503.05,-62.6C512.25,-64.19 521.16,-65.73 529.24,-67.13\"/>\n",
       "<polygon fill=\"black\" stroke=\"black\" points=\"528.48,-70.55 538.93,-68.81 529.68,-63.66 528.48,-70.55\"/>\n",
       "</g>\n",
       "<!-- 4425824720*&#45;&gt;4425824720 -->\n",
       "<g id=\"edge3\" class=\"edge\">\n",
       "<title>4425824720*&#45;&gt;4425824720</title>\n",
       "<path fill=\"none\" stroke=\"black\" d=\"M278.69,-46.5C286.1,-46.5 294.64,-46.5 303.71,-46.5\"/>\n",
       "<polygon fill=\"black\" stroke=\"black\" points=\"303.51,-50 313.51,-46.5 303.51,-43 303.51,-50\"/>\n",
       "</g>\n",
       "<!-- 4425825248 -->\n",
       "<g id=\"node10\" class=\"node\">\n",
       "<title>4425825248</title>\n",
       "<polygon fill=\"none\" stroke=\"black\" points=\"0,-1.5 0,-37.5 188.25,-37.5 188.25,-1.5 0,-1.5\"/>\n",
       "<text text-anchor=\"middle\" x=\"11.38\" y=\"-14.7\" font-family=\"Times,serif\" font-size=\"14.00\">b</text>\n",
       "<polyline fill=\"none\" stroke=\"black\" points=\"22.75,-2 22.75,-37.5\"/>\n",
       "<text text-anchor=\"middle\" x=\"64.88\" y=\"-14.7\" font-family=\"Times,serif\" font-size=\"14.00\">data &#45;3.0000</text>\n",
       "<polyline fill=\"none\" stroke=\"black\" points=\"107,-2 107,-37.5\"/>\n",
       "<text text-anchor=\"middle\" x=\"147.62\" y=\"-14.7\" font-family=\"Times,serif\" font-size=\"14.00\">grad 0.0000</text>\n",
       "</g>\n",
       "<!-- 4425825248&#45;&gt;4425824720* -->\n",
       "<g id=\"edge7\" class=\"edge\">\n",
       "<title>4425825248&#45;&gt;4425824720*</title>\n",
       "<path fill=\"none\" stroke=\"black\" d=\"M188.49,-35.75C197.27,-37.28 205.77,-38.76 213.51,-40.1\"/>\n",
       "<polygon fill=\"black\" stroke=\"black\" points=\"212.66,-43.51 223.11,-41.78 213.86,-36.61 212.66,-43.51\"/>\n",
       "</g>\n",
       "</g>\n",
       "</svg>\n"
      ],
      "text/plain": [
       "<graphviz.graphs.Digraph at 0x118620af0>"
      ]
     },
     "execution_count": 16,
     "metadata": {},
     "output_type": "execute_result"
    }
   ],
   "source": [
    "draw_dot(L)"
   ]
  },
  {
   "cell_type": "code",
   "execution_count": null,
   "id": "863815c2-23ff-4d93-a25a-7cb816354d2b",
   "metadata": {},
   "outputs": [],
   "source": []
  }
 ],
 "metadata": {
  "kernelspec": {
   "display_name": "Python 3 (ipykernel)",
   "language": "python",
   "name": "python3"
  },
  "language_info": {
   "codemirror_mode": {
    "name": "ipython",
    "version": 3
   },
   "file_extension": ".py",
   "mimetype": "text/x-python",
   "name": "python",
   "nbconvert_exporter": "python",
   "pygments_lexer": "ipython3",
   "version": "3.10.10"
  }
 },
 "nbformat": 4,
 "nbformat_minor": 5
}
