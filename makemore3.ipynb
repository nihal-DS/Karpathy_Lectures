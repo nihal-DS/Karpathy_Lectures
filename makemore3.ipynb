{
 "cells": [
  {
   "cell_type": "markdown",
   "id": "f644e15b-466b-4948-b00e-ab2b620c3653",
   "metadata": {},
   "source": [
    "## Building makemore Part 3: Activations & Gradients, BatchNorm\n",
    "#### https://www.youtube.com/watch?v=P6sfmUTpUmc"
   ]
  },
  {
   "cell_type": "code",
   "execution_count": 2,
   "id": "a3774a0b-7404-4197-b4d9-e16f86c9b8ac",
   "metadata": {},
   "outputs": [],
   "source": [
    "import torch\n",
    "import torch.nn.functional as F\n",
    "import matplotlib.pyplot as plt\n",
    "import random\n",
    "%matplotlib inline"
   ]
  },
  {
   "cell_type": "code",
   "execution_count": 3,
   "id": "20f6bee7-b234-4d73-9ace-ad90f5adbc44",
   "metadata": {},
   "outputs": [
    {
     "data": {
      "text/plain": [
       "['emma', 'olivia', 'ava', 'isabella', 'sophia']"
      ]
     },
     "execution_count": 3,
     "metadata": {},
     "output_type": "execute_result"
    }
   ],
   "source": [
    "words = open(\"data/names.txt\", \"r\").read().splitlines()\n",
    "words[:5]"
   ]
  },
  {
   "cell_type": "code",
   "execution_count": 4,
   "id": "92491cdc-1393-4363-81ca-b94c6ca9e35d",
   "metadata": {},
   "outputs": [
    {
     "name": "stdout",
     "output_type": "stream",
     "text": [
      "{1: 'a', 2: 'b', 3: 'c', 4: 'd', 5: 'e', 6: 'f', 7: 'g', 8: 'h', 9: 'i', 10: 'j', 11: 'k', 12: 'l', 13: 'm', 14: 'n', 15: 'o', 16: 'p', 17: 'q', 18: 'r', 19: 's', 20: 't', 21: 'u', 22: 'v', 23: 'w', 24: 'x', 25: 'y', 26: 'z', 0: '.'}\n"
     ]
    }
   ],
   "source": [
    "chars = sorted(list(set(\"\".join(words))))\n",
    "stoi = {s:i for i,s in enumerate(chars,1)}\n",
    "stoi[\".\"] = 0\n",
    "itos = {i:s for s,i in stoi.items()}\n",
    "print(itos)"
   ]
  },
  {
   "cell_type": "code",
   "execution_count": 5,
   "id": "579dc487-f89b-4c66-820e-a6a3cc72a082",
   "metadata": {},
   "outputs": [
    {
     "name": "stdout",
     "output_type": "stream",
     "text": [
      "torch.Size([228146, 3])\n",
      "torch.Size([228146])\n"
     ]
    }
   ],
   "source": [
    "block_size = 3\n",
    "X, y = [], []\n",
    "\n",
    "random.seed(42)\n",
    "random.shuffle(words)\n",
    "\n",
    "for name in words:\n",
    "    window = [0] * block_size\n",
    "    for n in name + \".\":\n",
    "        n = stoi[n]\n",
    "        X.append(window)\n",
    "        y.append(n)\n",
    "        window = window[1:] + [n]\n",
    "\n",
    "X = torch.tensor(X)\n",
    "y = torch.tensor(y)\n",
    "\n",
    "print(X.shape)\n",
    "print(y.shape)\n",
    "\n",
    "t = int(0.8*len(X))\n",
    "d = int(0.9*len(X))\n",
    "X_train, y_train = X[:t], y[:t]\n",
    "X_val, y_val = X[t:d], y[t:d]\n",
    "X_test, y_test = X[d:], y[d:]"
   ]
  },
  {
   "cell_type": "code",
   "execution_count": 6,
   "id": "3e5e3345-6cd4-43c9-a83f-95fa42d7dd0d",
   "metadata": {},
   "outputs": [
    {
     "name": "stdout",
     "output_type": "stream",
     "text": [
      "182516 182516\n",
      "22815 22815\n",
      "22815 22815\n"
     ]
    }
   ],
   "source": [
    "print(len(X_train), len(y_train))\n",
    "print(len(X_val), len(y_val))\n",
    "print(len(X_test), len(y_test))"
   ]
  },
  {
   "cell_type": "code",
   "execution_count": 7,
   "id": "f514df15-b1ed-4391-a7b8-801850d03c2c",
   "metadata": {},
   "outputs": [],
   "source": [
    "v_size = 10\n",
    "h_size = 200\n",
    "\n",
    "g = torch.Generator().manual_seed(2147483647)\n",
    "C = torch.randn((27,v_size), generator=g)\n",
    "W1 = torch.randn((block_size * v_size, h_size), generator=g)\n",
    "b1 = torch.randn(h_size, generator=g)\n",
    "W2 = torch.randn((h_size,27), generator=g)\n",
    "b2 = torch.randn(27, generator=g)\n",
    "parameters = [C, W1, b1, W2, b2]"
   ]
  },
  {
   "cell_type": "code",
   "execution_count": 66,
   "id": "37d3d16f-bd0f-446d-9174-8d1efba4821e",
   "metadata": {},
   "outputs": [],
   "source": [
    "for p in parameters:\n",
    "    p.requires_grad = True"
   ]
  },
  {
   "cell_type": "code",
   "execution_count": 67,
   "id": "19ff860f-1925-4c08-80cd-cf00deca32a4",
   "metadata": {},
   "outputs": [
    {
     "name": "stdout",
     "output_type": "stream",
     "text": [
      "      0/ 200000: 3.3104\n",
      "  10000/ 200000: 2.2760\n",
      "  20000/ 200000: 2.2256\n",
      "  30000/ 200000: 2.4286\n",
      "  40000/ 200000: 2.4262\n",
      "  50000/ 200000: 1.9974\n",
      "  60000/ 200000: 1.8699\n",
      "  70000/ 200000: 2.0889\n",
      "  80000/ 200000: 1.8119\n",
      "  90000/ 200000: 1.8899\n",
      " 100000/ 200000: 1.9781\n",
      " 110000/ 200000: 1.9192\n",
      " 120000/ 200000: 2.1244\n",
      " 130000/ 200000: 2.2292\n",
      " 140000/ 200000: 2.2595\n",
      " 150000/ 200000: 2.0892\n",
      " 160000/ 200000: 1.7230\n",
      " 170000/ 200000: 1.9897\n",
      " 180000/ 200000: 2.4414\n",
      " 190000/ 200000: 1.6277\n"
     ]
    }
   ],
   "source": [
    "max_step = 200000\n",
    "batch_size = 32\n",
    "lr = 0.1\n",
    "\n",
    "for i in range(max_step):\n",
    "\n",
    "    ix = torch.randint(0, X_train.shape[0], (batch_size,))\n",
    "    \n",
    "    # Forward pass\n",
    "    emb = C[X_train[ix]]\n",
    "    hpreact = (emb.view(-1,block_size * v_size) @ W1) + b1\n",
    "    h = torch.tanh(hpreact)\n",
    "    logits = (h @ W2) + b2\n",
    "    loss = F.cross_entropy(logits, y_train[ix])\n",
    "    \n",
    "    # Backwards pass\n",
    "    for p in parameters:\n",
    "        p.grad = None\n",
    "    loss.backward()\n",
    "    \n",
    "    # Update\n",
    "    lr = 0.1 if i < 100000 else 0.01 \n",
    "    for p in parameters:\n",
    "        p.data += -lr * p.grad\n",
    "    \n",
    "    # Track stat\n",
    "    if i % 10000 == 0:\n",
    "        print(f'{i:7d}/{max_step:7d}: {loss.item():.4f}')"
   ]
  },
  {
   "cell_type": "code",
   "execution_count": 68,
   "id": "8d569908-3ed3-4afa-938c-7bfe9295187e",
   "metadata": {},
   "outputs": [],
   "source": [
    "@torch.no_grad()\n",
    "def check_loss(batch:str):\n",
    "    batches = {\"train\":(X_train,y_train),\n",
    "               \"val\":(X_val,y_val),\n",
    "               \"test\":(X_test, y_test)}\n",
    "    X = batches[batch][0]\n",
    "    y = batches[batch][1]\n",
    "    emb = C[X]\n",
    "    h = torch.tanh((emb.view(-1,block_size * v_size) @ W1) + b1)\n",
    "    logits = (h @ W2) + b2\n",
    "    loss = F.cross_entropy(logits, y)\n",
    "    \n",
    "    print(f\"{batch} loss: {loss}\")"
   ]
  },
  {
   "cell_type": "code",
   "execution_count": 69,
   "id": "06dc6426-c4fd-4503-a131-bb7f8a43a7d1",
   "metadata": {},
   "outputs": [
    {
     "name": "stdout",
     "output_type": "stream",
     "text": [
      "train loss: 2.038048267364502\n",
      "val loss: 2.1060147285461426\n"
     ]
    }
   ],
   "source": [
    "check_loss(\"train\")\n",
    "check_loss(\"val\")"
   ]
  },
  {
   "cell_type": "markdown",
   "id": "4a05f50a-e62d-488c-b289-a0414874a2b9",
   "metadata": {},
   "source": [
    "- Initialization is very important in DL network\n",
    "- Ideal situation is in a untuned network the logits output must be uniform, i.e, the initial output probs are equal for all labels\n",
    "- Set bias to zeros\n",
    "- Another problem with uisng tanh with randomly initialized W results in logits that a simply too large and this causes the output of tanh to be 1 or -1 and the derivative of tanh with 1 or -1 is zero, therefore no gradients passes through when backprop is done\n",
    "- That's why ensure that "
   ]
  },
  {
   "cell_type": "code",
   "execution_count": 18,
   "id": "2bf98860-b50d-4a59-862e-033015829a5a",
   "metadata": {},
   "outputs": [],
   "source": [
    "# Tackling high loss during the beginning of training due to bad initilization\n",
    "# Initial train loss: 2.122 and val loss: 2.158 when initilization is bad, loss in beginning 21.60"
   ]
  },
  {
   "cell_type": "code",
   "execution_count": 42,
   "id": "4098819a-ce54-4cba-a5fc-1a62c860cc93",
   "metadata": {},
   "outputs": [],
   "source": [
    "# By initilizing the final layer bias to 0 and multiplying final layer W values with 0.01\n",
    "# This is done to fix the softmax being confidently wrong\n",
    "v_size = 10\n",
    "h_size = 200\n",
    "\n",
    "g = torch.Generator().manual_seed(2147483647)\n",
    "C = torch.randn((27,v_size), generator=g)\n",
    "W1 = torch.randn((block_size * v_size, h_size), generator=g)\n",
    "b1 = torch.randn(h_size, generator=g)\n",
    "W2 = torch.randn((h_size,27), generator=g) * 0.1\n",
    "b2 = torch.randn(27, generator=g) * 0\n",
    "parameters = [C, W1, b1, W2, b2]\n",
    "# Initial train loss: 2.071 and val loss: 2.132 when initilization is bad, loss in beginning 3.9845"
   ]
  },
  {
   "cell_type": "code",
   "execution_count": 26,
   "id": "58b3b9ef-e044-463b-9b61-bcbac63fe100",
   "metadata": {},
   "outputs": [
    {
     "data": {
      "image/png": "[encoded data removed]",
      "text/plain": [
       "<Figure size 640x480 with 1 Axes>"
      ]
     },
     "metadata": {},
     "output_type": "display_data"
    }
   ],
   "source": [
    "# Another problem with bad initilization is outputs of hiddens states being saturated (1 or -1 coming out of tanh)\n",
    "plt.hist(h.view(-1).tolist(), 50);"
   ]
  },
  {
   "cell_type": "code",
   "execution_count": 28,
   "id": "52a0c95c-d4c0-438f-b187-3d3592924685",
   "metadata": {},
   "outputs": [
    {
     "data": {
      "image/png": "[encoded data removed]",
      "text/plain": [
       "<Figure size 640x480 with 1 Axes>"
      ]
     },
     "metadata": {},
     "output_type": "display_data"
    }
   ],
   "source": [
    "# Extreme values beyond -1.5 and 1.5 tends to be squashed to -1 nd 1 when passed thorugh tanh and this leads to dead neurons buring backprop\n",
    "plt.hist(hpreact.view(-1).tolist(), 50);"
   ]
  },
  {
   "cell_type": "code",
   "execution_count": 35,
   "id": "fac715cf-1457-4e68-8b81-ed2d58097e5f",
   "metadata": {},
   "outputs": [
    {
     "data": {
      "text/plain": [
       "<matplotlib.image.AxesImage at 0x121889300>"
      ]
     },
     "execution_count": 35,
     "metadata": {},
     "output_type": "execute_result"
    },
    {
     "data": {
      "image/png": "[encoded data removed]",
      "text/plain": [
       "<Figure size 2000x1000 with 1 Axes>"
      ]
     },
     "metadata": {},
     "output_type": "display_data"
    }
   ],
   "source": [
    "plt.figure(figsize=(20,10))\n",
    "plt.imshow(h.abs() > 0.99, cmap=\"gray\")\n",
    "# If a whole column is white that means a neuron is dead (this neuron is saturated for all examples in mini batch)"
   ]
  },
  {
   "cell_type": "code",
   "execution_count": 43,
   "id": "5a2fbae2-b448-4d64-b04f-99754227a1cb",
   "metadata": {},
   "outputs": [],
   "source": [
    "# Further reduce saturation by fixing tanh layer\n",
    "v_size = 10\n",
    "h_size = 200\n",
    "\n",
    "g = torch.Generator().manual_seed(2147483647)\n",
    "C = torch.randn((27,v_size), generator=g)\n",
    "W1 = torch.randn((block_size * v_size, h_size), generator=g) * 0.2\n",
    "b1 = torch.randn(h_size, generator=g) * 0.01\n",
    "W2 = torch.randn((h_size,27), generator=g) * 0.01\n",
    "b2 = torch.randn(27, generator=g) * 0\n",
    "parameters = [C, W1, b1, W2, b2]\n",
    "# Initial train loss: 2.0368 and val loss: 2.1030 when initilization is bad, loss in beginning 3.3275"
   ]
  },
  {
   "cell_type": "code",
   "execution_count": 72,
   "id": "2ee4866f-7cb6-492e-af98-edd9cd6ce3e3",
   "metadata": {},
   "outputs": [
    {
     "name": "stdout",
     "output_type": "stream",
     "text": [
      "tensor(0.0027) tensor(0.9954)\n",
      "tensor(0.0031) tensor(1.0033)\n"
     ]
    },
    {
     "data": {
      "image/png": "[encoded data removed]",
      "text/plain": [
       "<Figure size 1500x500 with 2 Axes>"
      ]
     },
     "metadata": {},
     "output_type": "display_data"
    }
   ],
   "source": [
    "# It is observed that on doing matrix multiplication the variance of the values increases, this leads to exploding logits\n",
    "# This can be reduced by dividing the W matrix with sqrt(n_in) where n_in represents the zeroth (row) dimension of W\n",
    "# This method is called kaiming initilization\n",
    "x = torch.randn(1000, 10)\n",
    "W = torch.randn(10, 200) / (10**0.5)\n",
    "y = x @ W\n",
    "print(x.mean(), x.std())\n",
    "print(y.mean(), y.std())\n",
    "fig, ax = plt.subplots(1,2,figsize = (15,5))\n",
    "ax.flat[0].hist(x.view(-1).tolist(), 50, density=True); # Density param set to True converts y axis to probability density axis\n",
    "ax.flat[1].hist(y.view(-1).tolist(), 50, density=True);"
   ]
  },
  {
   "cell_type": "code",
   "execution_count": 64,
   "id": "f98d1ec2-be3b-416c-a1bb-c442827f6fed",
   "metadata": {},
   "outputs": [],
   "source": [
    "# Modern innovation on residual connectins, normalization layer, optimizers like adam-rmsprop makes not tuning initilization less forgiving"
   ]
  },
  {
   "cell_type": "code",
   "execution_count": 70,
   "id": "49ff9dc2-3c47-457e-94cf-51b9e05cdf7f",
   "metadata": {},
   "outputs": [],
   "source": [
    "# Using kaiming initilization\n",
    "v_size = 10 \n",
    "h_size = 200\n",
    "\n",
    "g = torch.Generator().manual_seed(2147483647)\n",
    "C = torch.randn((27,v_size), generator=g)\n",
    "W1 = torch.randn((block_size * v_size, h_size), generator=g) * (5/3)/((block_size * v_size)**0.5)\n",
    "b1 = torch.randn(h_size, generator=g) * 0.01\n",
    "W2 = torch.randn((h_size,27), generator=g) * 0.01\n",
    "b2 = torch.randn(27, generator=g) * 0\n",
    "parameters = [C, W1, b1, W2, b2]\n",
    "# Initial train loss: 2.0380 and val loss: 2.1060 when initilization is bad, loss in beginning 3.3104"
   ]
  },
  {
   "cell_type": "code",
   "execution_count": 75,
   "id": "5acbe93c-d733-4cc3-ad26-7137f0e5d7f9",
   "metadata": {},
   "outputs": [
    {
     "data": {
      "text/plain": [
       "torch.Size([32, 200])"
      ]
     },
     "execution_count": 75,
     "metadata": {},
     "output_type": "execute_result"
    }
   ],
   "source": [
    "hpreact.shape"
   ]
  },
  {
   "cell_type": "code",
   "execution_count": 83,
   "id": "46a4f705-8980-4b13-9a12-1170e15dab59",
   "metadata": {},
   "outputs": [
    {
     "data": {
      "text/plain": [
       "torch.Size([200])"
      ]
     },
     "execution_count": 83,
     "metadata": {},
     "output_type": "execute_result"
    }
   ],
   "source": [
    "hpreact.mean(0).shape"
   ]
  },
  {
   "cell_type": "code",
   "execution_count": null,
   "id": "429738f8-5fda-4885-a4e2-d3de16d9fafa",
   "metadata": {},
   "outputs": [],
   "source": []
  }
 ],
 "metadata": {
  "kernelspec": {
   "display_name": "Python 3 (ipykernel)",
   "language": "python",
   "name": "python3"
  },
  "language_info": {
   "codemirror_mode": {
    "name": "ipython",
    "version": 3
   },
   "file_extension": ".py",
   "mimetype": "text/x-python",
   "name": "python",
   "nbconvert_exporter": "python",
   "pygments_lexer": "ipython3",
   "version": "3.10.10"
  }
 },
 "nbformat": 4,
 "nbformat_minor": 5
}
