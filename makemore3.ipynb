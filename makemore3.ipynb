{
 "cells": [
  {
   "cell_type": "markdown",
   "id": "f644e15b-466b-4948-b00e-ab2b620c3653",
   "metadata": {},
   "source": [
    "## Building makemore Part 3: Activations & Gradients, BatchNorm\n",
    "#### https://www.youtube.com/watch?v=P6sfmUTpUmc"
   ]
  },
  {
   "cell_type": "code",
   "execution_count": 1,
   "id": "a3774a0b-7404-4197-b4d9-e16f86c9b8ac",
   "metadata": {},
   "outputs": [],
   "source": [
    "import torch\n",
    "import torch.nn.functional as F\n",
    "import matplotlib.pyplot as plt\n",
    "import random\n",
    "%matplotlib inline"
   ]
  },
  {
   "cell_type": "code",
   "execution_count": 2,
   "id": "20f6bee7-b234-4d73-9ace-ad90f5adbc44",
   "metadata": {},
   "outputs": [
    {
     "data": {
      "text/plain": [
       "['emma', 'olivia', 'ava', 'isabella', 'sophia']"
      ]
     },
     "execution_count": 2,
     "metadata": {},
     "output_type": "execute_result"
    }
   ],
   "source": [
    "words = open(\"data/names.txt\", \"r\").read().splitlines()\n",
    "words[:5]"
   ]
  },
  {
   "cell_type": "code",
   "execution_count": 3,
   "id": "92491cdc-1393-4363-81ca-b94c6ca9e35d",
   "metadata": {},
   "outputs": [
    {
     "name": "stdout",
     "output_type": "stream",
     "text": [
      "{1: 'a', 2: 'b', 3: 'c', 4: 'd', 5: 'e', 6: 'f', 7: 'g', 8: 'h', 9: 'i', 10: 'j', 11: 'k', 12: 'l', 13: 'm', 14: 'n', 15: 'o', 16: 'p', 17: 'q', 18: 'r', 19: 's', 20: 't', 21: 'u', 22: 'v', 23: 'w', 24: 'x', 25: 'y', 26: 'z', 0: '.'}\n"
     ]
    }
   ],
   "source": [
    "chars = sorted(list(set(\"\".join(words))))\n",
    "stoi = {s:i for i,s in enumerate(chars,1)}\n",
    "stoi[\".\"] = 0\n",
    "itos = {i:s for s,i in stoi.items()}\n",
    "print(itos)"
   ]
  },
  {
   "cell_type": "code",
   "execution_count": 4,
   "id": "579dc487-f89b-4c66-820e-a6a3cc72a082",
   "metadata": {},
   "outputs": [
    {
     "name": "stdout",
     "output_type": "stream",
     "text": [
      "torch.Size([228146, 3])\n",
      "torch.Size([228146])\n"
     ]
    }
   ],
   "source": [
    "block_size = 3\n",
    "X, y = [], []\n",
    "\n",
    "random.seed(42)\n",
    "random.shuffle(words)\n",
    "\n",
    "for name in words:\n",
    "    window = [0] * block_size\n",
    "    for n in name + \".\":\n",
    "        n = stoi[n]\n",
    "        X.append(window)\n",
    "        y.append(n)\n",
    "        window = window[1:] + [n]\n",
    "\n",
    "X = torch.tensor(X)\n",
    "y = torch.tensor(y)\n",
    "\n",
    "print(X.shape)\n",
    "print(y.shape)\n",
    "\n",
    "t = int(0.8*len(X))\n",
    "d = int(0.9*len(X))\n",
    "X_train, y_train = X[:t], y[:t]\n",
    "X_val, y_val = X[t:d], y[t:d]\n",
    "X_test, y_test = X[d:], y[d:]"
   ]
  },
  {
   "cell_type": "code",
   "execution_count": 5,
   "id": "3e5e3345-6cd4-43c9-a83f-95fa42d7dd0d",
   "metadata": {},
   "outputs": [
    {
     "name": "stdout",
     "output_type": "stream",
     "text": [
      "182516 182516\n",
      "22815 22815\n",
      "22815 22815\n"
     ]
    }
   ],
   "source": [
    "print(len(X_train), len(y_train))\n",
    "print(len(X_val), len(y_val))\n",
    "print(len(X_test), len(y_test))"
   ]
  },
  {
   "cell_type": "code",
   "execution_count": 6,
   "id": "f514df15-b1ed-4391-a7b8-801850d03c2c",
   "metadata": {},
   "outputs": [],
   "source": [
    "v_size = 10\n",
    "h_size = 200\n",
    "\n",
    "g = torch.Generator().manual_seed(2147483647)\n",
    "C = torch.randn((27,v_size), generator=g)\n",
    "W1 = torch.randn((block_size * v_size, h_size), generator=g)\n",
    "b1 = torch.randn(h_size, generator=g)\n",
    "W2 = torch.randn((h_size,27), generator=g)\n",
    "b2 = torch.randn(27, generator=g)\n",
    "parameters = [C, W1, b1, W2, b2]"
   ]
  },
  {
   "cell_type": "code",
   "execution_count": 26,
   "id": "37d3d16f-bd0f-446d-9174-8d1efba4821e",
   "metadata": {},
   "outputs": [],
   "source": [
    "for p in parameters:\n",
    "    p.requires_grad = True"
   ]
  },
  {
   "cell_type": "code",
   "execution_count": 27,
   "id": "19ff860f-1925-4c08-80cd-cf00deca32a4",
   "metadata": {},
   "outputs": [
    {
     "name": "stdout",
     "output_type": "stream",
     "text": [
      "      0/ 200000: 3.2895\n"
     ]
    }
   ],
   "source": [
    "max_step = 200000\n",
    "batch_size = 32\n",
    "lr = 0.1\n",
    "\n",
    "for i in range(max_step):\n",
    "\n",
    "    ix = torch.randint(0, X_train.shape[0], (batch_size,))\n",
    "    \n",
    "    # Forward pass\n",
    "    emb = C[X_train[ix]]\n",
    "    hpreact = (emb.view(-1,block_size * v_size) @ W1) #+ b1\n",
    "    bnmeani = hpreact.mean(0, keepdim=True)\n",
    "    bnstdi = hpreact.std(0, keepdim=True)\n",
    "    hpreact = bngain * (hpreact - bnmeani) / bnstdi + bnbias # Batch Normalization\n",
    "    h = torch.tanh(hpreact)\n",
    "    logits = (h @ W2) + b2\n",
    "    loss = F.cross_entropy(logits, y_train[ix])\n",
    "\n",
    "    with torch.no_grad():\n",
    "        bnmean_running = 0.999 * bnmean_running + 0.001 * bnmeani\n",
    "        bnstd_running = 0.999 * bnstd_running + 0.001 * bnstdi\n",
    "    \n",
    "    # Backwards pass\n",
    "    for p in parameters:\n",
    "        p.grad = None\n",
    "    loss.backward()\n",
    "    \n",
    "    # Update\n",
    "    lr = 0.1 if i < 100000 else 0.01 \n",
    "    for p in parameters:\n",
    "        p.data += -lr * p.grad\n",
    "    \n",
    "    # Track stat\n",
    "    if i % 10000 == 0:\n",
    "        print(f'{i:7d}/{max_step:7d}: {loss.item():.4f}')\n",
    "\n",
    "    break"
   ]
  },
  {
   "cell_type": "code",
   "execution_count": 46,
   "id": "8d569908-3ed3-4afa-938c-7bfe9295187e",
   "metadata": {},
   "outputs": [],
   "source": [
    "@torch.no_grad()\n",
    "def check_loss(batch:str):\n",
    "    batches = {\"train\":(X_train,y_train),\n",
    "               \"val\":(X_val,y_val),\n",
    "               \"test\":(X_test, y_test)}\n",
    "    X = batches[batch][0]\n",
    "    y = batches[batch][1]\n",
    "    emb = C[X]\n",
    "    hpreact = (emb.view(-1,block_size * v_size) @ W1) #+ b1\n",
    "    hpreact = bngain * (hpreact - bnmean_running) / bnstd_running + bnbias\n",
    "    h = torch.tanh(hpreact)\n",
    "    logits = (h @ W2) + b2\n",
    "    loss = F.cross_entropy(logits, y)\n",
    "    \n",
    "    print(f\"{batch} loss: {loss}\")"
   ]
  },
  {
   "cell_type": "code",
   "execution_count": 23,
   "id": "06dc6426-c4fd-4503-a131-bb7f8a43a7d1",
   "metadata": {},
   "outputs": [
    {
     "name": "stdout",
     "output_type": "stream",
     "text": [
      "train loss: 3.3056585788726807\n",
      "val loss: 3.305375337600708\n"
     ]
    }
   ],
   "source": [
    "check_loss(\"train\")\n",
    "check_loss(\"val\")"
   ]
  },
  {
   "cell_type": "markdown",
   "id": "4a05f50a-e62d-488c-b289-a0414874a2b9",
   "metadata": {},
   "source": [
    "- Initialization is very important in DL network\n",
    "- Ideal situation is in a untuned network the logits output must be uniform, i.e, the initial output probs are equal for all labels\n",
    "- Set bias to zeros\n",
    "- Another problem with uisng tanh with randomly initialized W results in logits that a simply too large and this causes the output of tanh to be 1 or -1 and the derivative of tanh with 1 or -1 is zero, therefore no gradients passes through when backprop is done\n",
    "- That's why ensure that "
   ]
  },
  {
   "cell_type": "code",
   "execution_count": 10,
   "id": "2bf98860-b50d-4a59-862e-033015829a5a",
   "metadata": {},
   "outputs": [],
   "source": [
    "# Tackling high loss during the beginning of training due to bad initilization\n",
    "# Initial train loss: 2.122 and val loss: 2.158 when initilization is bad, loss in beginning 21.60"
   ]
  },
  {
   "cell_type": "code",
   "execution_count": 11,
   "id": "4098819a-ce54-4cba-a5fc-1a62c860cc93",
   "metadata": {},
   "outputs": [],
   "source": [
    "# By initilizing the final layer bias to 0 and multiplying final layer W values with 0.01\n",
    "# This is done to fix the softmax being confidently wrong\n",
    "v_size = 10\n",
    "h_size = 200\n",
    "\n",
    "g = torch.Generator().manual_seed(2147483647)\n",
    "C = torch.randn((27,v_size), generator=g)\n",
    "W1 = torch.randn((block_size * v_size, h_size), generator=g)\n",
    "b1 = torch.randn(h_size, generator=g)\n",
    "W2 = torch.randn((h_size,27), generator=g) * 0.1\n",
    "b2 = torch.randn(27, generator=g) * 0\n",
    "parameters = [C, W1, b1, W2, b2]\n",
    "# Initial train loss: 2.071 and val loss: 2.132 when initilization is bad, loss in beginning 3.9845"
   ]
  },
  {
   "cell_type": "code",
   "execution_count": 28,
   "id": "58b3b9ef-e044-463b-9b61-bcbac63fe100",
   "metadata": {},
   "outputs": [
    {
     "data": {
      "image/png": "[encoded data removed]",
      "text/plain": [
       "<Figure size 640x480 with 1 Axes>"
      ]
     },
     "metadata": {},
     "output_type": "display_data"
    }
   ],
   "source": [
    "# Another problem with bad initilization is outputs of hiddens states being saturated (1 or -1 coming out of tanh)\n",
    "plt.hist(h.view(-1).tolist(), 50);"
   ]
  },
  {
   "cell_type": "code",
   "execution_count": 29,
   "id": "52a0c95c-d4c0-438f-b187-3d3592924685",
   "metadata": {},
   "outputs": [
    {
     "data": {
      "image/png": "[encoded data removed]",
      "text/plain": [
       "<Figure size 640x480 with 1 Axes>"
      ]
     },
     "metadata": {},
     "output_type": "display_data"
    }
   ],
   "source": [
    "# Extreme values beyond -1.5 and 1.5 tends to be squashed to -1 nd 1 when passed thorugh tanh and this leads to dead neurons buring backprop\n",
    "plt.hist(hpreact.view(-1).tolist(), 50);"
   ]
  },
  {
   "cell_type": "code",
   "execution_count": 30,
   "id": "fac715cf-1457-4e68-8b81-ed2d58097e5f",
   "metadata": {},
   "outputs": [
    {
     "data": {
      "text/plain": [
       "<matplotlib.image.AxesImage at 0x1270f5c90>"
      ]
     },
     "execution_count": 30,
     "metadata": {},
     "output_type": "execute_result"
    },
    {
     "data": {
      "image/png": "[encoded data removed]",
      "text/plain": [
       "<Figure size 2000x1000 with 1 Axes>"
      ]
     },
     "metadata": {},
     "output_type": "display_data"
    }
   ],
   "source": [
    "plt.figure(figsize=(20,10))\n",
    "plt.imshow(h.abs() > 0.99, cmap=\"gray\")\n",
    "# If a whole column is white that means a neuron is dead (this neuron is saturated for all examples in mini batch)"
   ]
  },
  {
   "cell_type": "code",
   "execution_count": 15,
   "id": "5a2fbae2-b448-4d64-b04f-99754227a1cb",
   "metadata": {},
   "outputs": [],
   "source": [
    "# Further reduce saturation by fixing tanh layer\n",
    "v_size = 10\n",
    "h_size = 200\n",
    "\n",
    "g = torch.Generator().manual_seed(2147483647)\n",
    "C = torch.randn((27,v_size), generator=g)\n",
    "W1 = torch.randn((block_size * v_size, h_size), generator=g) * 0.2\n",
    "b1 = torch.randn(h_size, generator=g) * 0.01\n",
    "W2 = torch.randn((h_size,27), generator=g) * 0.01\n",
    "b2 = torch.randn(27, generator=g) * 0\n",
    "\n",
    "parameters = [C, W1, b1, W2, b2]\n",
    "# Initial train loss: 2.0368 and val loss: 2.1030 when initilization is bad, loss in beginning 3.3275"
   ]
  },
  {
   "cell_type": "code",
   "execution_count": 16,
   "id": "2ee4866f-7cb6-492e-af98-edd9cd6ce3e3",
   "metadata": {},
   "outputs": [
    {
     "name": "stdout",
     "output_type": "stream",
     "text": [
      "tensor(-0.0155) tensor(1.0054)\n",
      "tensor(-0.0028) tensor(0.9971)\n"
     ]
    },
    {
     "data": {
      "image/png": "[encoded data removed]",
      "text/plain": [
       "<Figure size 1500x500 with 2 Axes>"
      ]
     },
     "metadata": {},
     "output_type": "display_data"
    }
   ],
   "source": [
    "# It is observed that on doing matrix multiplication the variance of the values increases, this leads to exploding logits\n",
    "# This can be reduced by dividing the W matrix with sqrt(n_in) where n_in represents the zeroth (row) dimension of W\n",
    "# This method is called kaiming initilization\n",
    "x = torch.randn(1000, 10)\n",
    "W = torch.randn(10, 200) / (10**0.5)\n",
    "y = x @ W\n",
    "print(x.mean(), x.std())\n",
    "print(y.mean(), y.std())\n",
    "fig, ax = plt.subplots(1,2,figsize = (15,5))\n",
    "ax.flat[0].hist(x.view(-1).tolist(), 50, density=True); # Density param set to True converts y axis to probability density axis\n",
    "ax.flat[1].hist(y.view(-1).tolist(), 50, density=True);"
   ]
  },
  {
   "cell_type": "code",
   "execution_count": 17,
   "id": "f98d1ec2-be3b-416c-a1bb-c442827f6fed",
   "metadata": {},
   "outputs": [],
   "source": [
    "# Modern innovation on residual connectins, normalization layer, optimizers like adam-rmsprop makes not tuning initilization less forgiving"
   ]
  },
  {
   "cell_type": "code",
   "execution_count": 18,
   "id": "49ff9dc2-3c47-457e-94cf-51b9e05cdf7f",
   "metadata": {},
   "outputs": [],
   "source": [
    "# Using kaiming initilization\n",
    "v_size = 10 \n",
    "h_size = 200\n",
    "\n",
    "g = torch.Generator().manual_seed(2147483647)\n",
    "C = torch.randn((27,v_size), generator=g)\n",
    "W1 = torch.randn((block_size * v_size, h_size), generator=g) * (5/3)/((block_size * v_size)**0.5)\n",
    "b1 = torch.randn(h_size, generator=g) * 0.01\n",
    "W2 = torch.randn((h_size,27), generator=g) * 0.01\n",
    "b2 = torch.randn(27, generator=g) * 0\n",
    "parameters = [C, W1, b1, W2, b2]\n",
    "# Initial train loss: 2.0380 and val loss: 2.1060 when initilization is bad, loss in beginning 3.3104"
   ]
  },
  {
   "cell_type": "code",
   "execution_count": 31,
   "id": "5acbe93c-d733-4cc3-ad26-7137f0e5d7f9",
   "metadata": {},
   "outputs": [
    {
     "data": {
      "text/plain": [
       "torch.Size([32, 200])"
      ]
     },
     "execution_count": 31,
     "metadata": {},
     "output_type": "execute_result"
    }
   ],
   "source": [
    "hpreact.shape"
   ]
  },
  {
   "cell_type": "code",
   "execution_count": 32,
   "id": "46a4f705-8980-4b13-9a12-1170e15dab59",
   "metadata": {},
   "outputs": [
    {
     "data": {
      "text/plain": [
       "torch.Size([200])"
      ]
     },
     "execution_count": 32,
     "metadata": {},
     "output_type": "execute_result"
    }
   ],
   "source": [
    "hpreact.mean(0).shape"
   ]
  },
  {
   "cell_type": "code",
   "execution_count": 33,
   "id": "429738f8-5fda-4885-a4e2-d3de16d9fafa",
   "metadata": {},
   "outputs": [
    {
     "data": {
      "text/plain": [
       "torch.Size([32, 200])"
      ]
     },
     "execution_count": 33,
     "metadata": {},
     "output_type": "execute_result"
    }
   ],
   "source": [
    "# Batch Normlization helps achieve convergence faster\n",
    "# Why is batch norm done across each dimensions of output???\n",
    "hpreact.shape"
   ]
  },
  {
   "cell_type": "code",
   "execution_count": 22,
   "id": "69267e67-ad5e-4760-9965-0731fcfeb7fe",
   "metadata": {},
   "outputs": [],
   "source": [
    "# Introducing batch normalization scale and shift vector\n",
    "v_size = 10\n",
    "h_size = 200\n",
    "\n",
    "g = torch.Generator().manual_seed(2147483647)\n",
    "C = torch.randn((27,v_size), generator=g)\n",
    "W1 = torch.randn((block_size * v_size, h_size), generator=g) * 0.2\n",
    "b1 = torch.randn(h_size, generator=g) * 0.01\n",
    "W2 = torch.randn((h_size,27), generator=g) * 0.01\n",
    "b2 = torch.randn(27, generator=g) * 0\n",
    "\n",
    "bngain = torch.ones((1, h_size))\n",
    "bnbias = torch.zeros((1, h_size))\n",
    "bnmean_running = torch.zeros((1, h_size))\n",
    "bnstd_running =  torch.ones((1, h_size))\n",
    "parameters = [C, W1, b1, W2, b2, bngain, bnbias]\n",
    "# Initial train loss: 2.0368 and val loss: 2.1030 when initilization is bad, loss in beginning 3.3275"
   ]
  },
  {
   "cell_type": "code",
   "execution_count": 24,
   "id": "5467d535-7394-4672-8733-adfdf8fbc43d",
   "metadata": {},
   "outputs": [],
   "source": [
    "# Quirk about batch norm:\n",
    "# Sending examples in in batches was purely done to improve efficiency, i.e. coupling examples together took advantage of parallel compute,\n",
    "# batch norm operation introduces the dependency of all examples in the batches to the forward and backward pass. This strangely has as a \n",
    "# regualrizing effect (where each output of an example is dependent whole batch, thus making it difficult for nn to overfit to memorize \n",
    "# a single example)"
   ]
  },
  {
   "cell_type": "code",
   "execution_count": null,
   "id": "7ed2e841-9531-40d2-a55b-f3cc679737cc",
   "metadata": {},
   "outputs": [],
   "source": [
    "# Batch norm is done during training but during inference the batch norm mean and standard deviation is not present since a single example \n",
    "# is being fed forward, this can be circumvented by calculating the training set mean and std and then using the same value on all\n",
    "# inference examples.\n",
    "# This batch norm mean and std can be calculated explicitly after training or in a running manner during training using exponentally \n",
    "# weighted mean formula as shown."
   ]
  },
  {
   "cell_type": "code",
   "execution_count": 40,
   "id": "1a7c78e6-5e71-4f24-9201-f6ee6baa6894",
   "metadata": {},
   "outputs": [],
   "source": [
    "with torch.no_grad():\n",
    "    emb = C[X_train]\n",
    "    embcat = emb.view(emb.shape[0],-1)\n",
    "    hpreact = embcat @ W1 + b1\n",
    "    bnmean = hpreact.mean(0, keepdim=True)\n",
    "    bnstd = hpreact.std(0, keepdim=True)"
   ]
  },
  {
   "cell_type": "code",
   "execution_count": 66,
   "id": "74dbee57-5ba0-48ba-bb9d-e94b93fffcce",
   "metadata": {},
   "outputs": [],
   "source": [
    "# Batch norm doesn't need it own bias in hidden state, to understand better check out 1:01:37"
   ]
  },
  {
   "cell_type": "code",
   "execution_count": 1,
   "id": "99071966-b1f2-4c5e-a3ec-bea3e8cc8db6",
   "metadata": {},
   "outputs": [],
   "source": [
    "# Writing the code in pytorch format"
   ]
  },
  {
   "cell_type": "code",
   "execution_count": 5,
   "id": "f863d4be-b5e6-42e1-8b82-b0da09ba4c6f",
   "metadata": {},
   "outputs": [],
   "source": [
    "class Linear:\n",
    "    \n",
    "    def __init__(self, fan_in, fan_out, bias=True):\n",
    "        self.weight = torch.randn((fan_in, fan_out), generator=g) / fan_in**0.5\n",
    "        self.bias = torch.zeros(fan_out) if bias else None\n",
    "\n",
    "    def __call__(self, x):\n",
    "        self.out = x @ self.weight\n",
    "        if self.bias is not None:\n",
    "            self.out += self.bias\n",
    "        return self.out\n",
    "\n",
    "    def parameters(self):\n",
    "        return [self.weight] + ([] if self.bias is None else [self.bias])\n",
    "\n",
    "class BatchNorm1d:\n",
    "    \n",
    "    def __init__(self, dim, eps=1e-5, momentum=0.1):\n",
    "        self.eps = eps\n",
    "        self.momentum = momentum\n",
    "        self.training = True\n",
    "        self.gamma = torch.ones(dim)\n",
    "        self.beta = torch.zeros(dim)\n",
    "        self.running_mean = torch.zeros(dim)\n",
    "        self.running_var = torch.ones(dim)\n",
    "\n",
    "    def __call__(self, x):\n",
    "        if self.training:\n",
    "            xmean = x.mean(0, keepdim=True)\n",
    "            xvar = x.var(0, keepdim=True)\n",
    "        else:\n",
    "            xmean = self.running_mean\n",
    "            xvar = self.running_var\n",
    "\n",
    "        xhat = (x - xmean)/(torch.sqrt(xvar + self.eps))\n",
    "        self.out = self.gamma * xhat + self.beta\n",
    "\n",
    "        if self.training:\n",
    "            self.running_mean = (1 - self.momentum) * self.running_mean + self.momentum * xmean\n",
    "            self.running_var = (1 - self.momentum) * self.running_var + self.momentum * xvar\n",
    "\n",
    "        return self.out\n",
    "\n",
    "    def parameters(self):\n",
    "        return [self.gamma + self.beta]\n",
    "\n",
    "class Tanh:\n",
    "    \n",
    "    def __call__(self, x):\n",
    "        self.out = torch.tanh(x)\n",
    "        return self.out\n",
    "\n",
    "    def parameters(self):\n",
    "        return []"
   ]
  },
  {
   "cell_type": "code",
   "execution_count": 6,
   "id": "2516da49-077f-4cbc-bdd0-55b379d4104a",
   "metadata": {},
   "outputs": [
    {
     "name": "stdout",
     "output_type": "stream",
     "text": [
      "46497\n"
     ]
    }
   ],
   "source": [
    "n_embd = 10\n",
    "n_hidden = 100\n",
    "vocab_size = 27\n",
    "g = torch.Generator().manual_seed(2147483647)\n",
    "\n",
    "C = torch.randn((vocab_size, n_embd), generator=g)\n",
    "layers = [\n",
    "  Linear(n_embd * block_size, n_hidden, bias=False), BatchNorm1d(n_hidden), Tanh(),\n",
    "  Linear(n_hidden, n_hidden, bias=False), BatchNorm1d(n_hidden), Tanh(),\n",
    "  Linear(n_hidden, n_hidden, bias=False), BatchNorm1d(n_hidden), Tanh(),\n",
    "  Linear(n_hidden, n_hidden, bias=False), BatchNorm1d(n_hidden), Tanh(),\n",
    "  Linear(n_hidden, n_hidden, bias=False), BatchNorm1d(n_hidden), Tanh(),\n",
    "  Linear(n_hidden, vocab_size, bias=False), BatchNorm1d(vocab_size),\n",
    "]\n",
    "\n",
    "with torch.no_grad():\n",
    "  # last layer: make less confident\n",
    "  layers[-1].gamma *= 0.1\n",
    "  # all other layers: apply gain\n",
    "  for layer in layers[:-1]:\n",
    "    if isinstance(layer, Linear):\n",
    "      layer.weight *= 5/3\n",
    "\n",
    "parameters = [C] + [p for layer in layers for p in layer.parameters()]\n",
    "print(sum(p.nelement() for p in parameters))\n",
    "for p in parameters:\n",
    "  p.requires_grad = True"
   ]
  },
  {
   "cell_type": "code",
   "execution_count": 10,
   "id": "979cff3e-c7db-4093-9132-8946fe7605c9",
   "metadata": {},
   "outputs": [
    {
     "ename": "TypeError",
     "evalue": "unsupported operand type(s) for *: 'float' and 'NoneType'",
     "output_type": "error",
     "traceback": [
      "\u001b[0;31m---------------------------------------------------------------------------\u001b[0m",
      "\u001b[0;31mTypeError\u001b[0m                                 Traceback (most recent call last)",
      "Cell \u001b[0;32mIn[10], line 30\u001b[0m\n\u001b[1;32m     28\u001b[0m lr \u001b[38;5;241m=\u001b[39m \u001b[38;5;241m0.1\u001b[39m \u001b[38;5;28;01mif\u001b[39;00m i \u001b[38;5;241m<\u001b[39m \u001b[38;5;241m150000\u001b[39m \u001b[38;5;28;01melse\u001b[39;00m \u001b[38;5;241m0.01\u001b[39m \u001b[38;5;66;03m# step learning rate decay\u001b[39;00m\n\u001b[1;32m     29\u001b[0m \u001b[38;5;28;01mfor\u001b[39;00m p \u001b[38;5;129;01min\u001b[39;00m parameters:\n\u001b[0;32m---> 30\u001b[0m     p\u001b[38;5;241m.\u001b[39mdata \u001b[38;5;241m+\u001b[39m\u001b[38;5;241m=\u001b[39m \u001b[38;5;241;43m-\u001b[39;49m\u001b[43mlr\u001b[49m\u001b[43m \u001b[49m\u001b[38;5;241;43m*\u001b[39;49m\u001b[43m \u001b[49m\u001b[43mp\u001b[49m\u001b[38;5;241;43m.\u001b[39;49m\u001b[43mgrad\u001b[49m\n\u001b[1;32m     32\u001b[0m \u001b[38;5;66;03m# track stats\u001b[39;00m\n\u001b[1;32m     33\u001b[0m \u001b[38;5;28;01mif\u001b[39;00m i \u001b[38;5;241m%\u001b[39m \u001b[38;5;241m10000\u001b[39m \u001b[38;5;241m==\u001b[39m \u001b[38;5;241m0\u001b[39m: \u001b[38;5;66;03m# print every once in a while\u001b[39;00m\n",
      "\u001b[0;31mTypeError\u001b[0m: unsupported operand type(s) for *: 'float' and 'NoneType'"
     ]
    }
   ],
   "source": [
    "# same optimization as last time\n",
    "max_steps = 200000\n",
    "batch_size = 32\n",
    "lossi = []\n",
    "ud = []\n",
    "\n",
    "for i in range(max_steps):\n",
    "    \n",
    "    # minibatch construct\n",
    "    ix = torch.randint(0, X_train.shape[0], (batch_size,), generator=g)\n",
    "    Xb, Yb = X_train[ix], y_train[ix] # batch X,Y\n",
    "    \n",
    "    # forward pass\n",
    "    emb = C[Xb] # embed the characters into vectors\n",
    "    x = emb.view(emb.shape[0], -1) # concatenate the vectors\n",
    "    for layer in layers:\n",
    "        x = layer(x)\n",
    "    loss = F.cross_entropy(x, Yb) # loss function\n",
    "    \n",
    "    # backward pass\n",
    "    for layer in layers:\n",
    "        layer.out.retain_grad() # AFTER_DEBUG: would take out retain_graph\n",
    "    for p in parameters:\n",
    "        p.grad = None\n",
    "    loss.backward()\n",
    "    \n",
    "    # update\n",
    "    lr = 0.1 if i < 150000 else 0.01 # step learning rate decay\n",
    "    for p in parameters:\n",
    "        p.data += -lr * p.grad\n",
    "    \n",
    "    # track stats\n",
    "    if i % 10000 == 0: # print every once in a while\n",
    "        print(f'{i:7d}/{max_steps:7d}: {loss.item():.4f}')\n",
    "    lossi.append(loss.log10().item())\n",
    "    with torch.no_grad():\n",
    "        ud.append([((lr*p.grad).std() / p.data.std()).log10().item() for p in parameters])\n",
    "    \n",
    "    # if i >= 1000:\n",
    "    break # AFTER_DEBUG: would take out obviously to run full optimization"
   ]
  },
  {
   "cell_type": "code",
   "execution_count": null,
   "id": "69319160-3aae-4c04-825e-2e23ef2e598b",
   "metadata": {},
   "outputs": [],
   "source": []
  }
 ],
 "metadata": {
  "kernelspec": {
   "display_name": "Python 3 (ipykernel)",
   "language": "python",
   "name": "python3"
  },
  "language_info": {
   "codemirror_mode": {
    "name": "ipython",
    "version": 3
   },
   "file_extension": ".py",
   "mimetype": "text/x-python",
   "name": "python",
   "nbconvert_exporter": "python",
   "pygments_lexer": "ipython3",
   "version": "3.10.10"
  }
 },
 "nbformat": 4,
 "nbformat_minor": 5
}
